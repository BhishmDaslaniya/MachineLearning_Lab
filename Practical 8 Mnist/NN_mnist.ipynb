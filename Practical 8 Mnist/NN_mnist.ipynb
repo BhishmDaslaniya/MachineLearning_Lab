{
  "nbformat": 4,
  "nbformat_minor": 0,
  "metadata": {
    "colab": {
      "name": "NN-mnist.ipynb",
      "provenance": []
    },
    "kernelspec": {
      "name": "python3",
      "display_name": "Python 3"
    }
  },
  "cells": [
    {
      "cell_type": "markdown",
      "metadata": {
        "id": "Qw8eUd4r6x-2",
        "colab_type": "text"
      },
      "source": [
        "Neural Network practical with MNIST dataset"
      ]
    },
    {
      "cell_type": "code",
      "metadata": {
        "id": "19Ra1kU4x4q6",
        "colab_type": "code",
        "colab": {}
      },
      "source": [
        "from keras.datasets import mnist"
      ],
      "execution_count": 29,
      "outputs": []
    },
    {
      "cell_type": "code",
      "metadata": {
        "id": "ec-04nhRx9tj",
        "colab_type": "code",
        "colab": {}
      },
      "source": [
        "(x_train, y_train), (x_test, y_test) = mnist.load_data()"
      ],
      "execution_count": 30,
      "outputs": []
    },
    {
      "cell_type": "code",
      "metadata": {
        "id": "Wo9Ch9F8yCRf",
        "colab_type": "code",
        "colab": {
          "base_uri": "https://localhost:8080/",
          "height": 85
        },
        "outputId": "697315c5-27a5-4842-af7d-cffd4cae9763"
      },
      "source": [
        "print(x_train.shape)\n",
        "print(y_train.shape)\n",
        "print(x_test.shape)\n",
        "print(y_test.shape)"
      ],
      "execution_count": 31,
      "outputs": [
        {
          "output_type": "stream",
          "text": [
            "(60000, 28, 28)\n",
            "(60000,)\n",
            "(10000, 28, 28)\n",
            "(10000,)\n"
          ],
          "name": "stdout"
        }
      ]
    },
    {
      "cell_type": "code",
      "metadata": {
        "id": "vSg92vzkyGfH",
        "colab_type": "code",
        "colab": {
          "base_uri": "https://localhost:8080/",
          "height": 265
        },
        "outputId": "fe3bc342-e3c7-435a-9c1e-61a96979e771"
      },
      "source": [
        "import matplotlib.pyplot as plt\n",
        "plt.imshow(x_train[1,:,:].reshape(28,28),cmap='gray')\n",
        "plt.show()"
      ],
      "execution_count": 32,
      "outputs": [
        {
          "output_type": "display_data",
          "data": {
            "image/png": "[encoded data removed]",
            "text/plain": [
              "<Figure size 432x288 with 1 Axes>"
            ]
          },
          "metadata": {
            "tags": [],
            "needs_background": "light"
          }
        }
      ]
    },
    {
      "cell_type": "code",
      "metadata": {
        "id": "91dgUFoRy07J",
        "colab_type": "code",
        "colab": {
          "base_uri": "https://localhost:8080/",
          "height": 34
        },
        "outputId": "f44abd4f-b021-4fcb-d887-faa36b130ed1"
      },
      "source": [
        "y_train[1]"
      ],
      "execution_count": 33,
      "outputs": [
        {
          "output_type": "execute_result",
          "data": {
            "text/plain": [
              "0"
            ]
          },
          "metadata": {
            "tags": []
          },
          "execution_count": 33
        }
      ]
    },
    {
      "cell_type": "code",
      "metadata": {
        "id": "PoGANm-2zKRw",
        "colab_type": "code",
        "colab": {}
      },
      "source": [
        "#Convert labels in one hot vector\n",
        "from keras.utils import to_categorical\n",
        "y_train_encoded = to_categorical(y_train)\n",
        "y_test_encoded = to_categorical(y_test)"
      ],
      "execution_count": null,
      "outputs": []
    },
    {
      "cell_type": "code",
      "metadata": {
        "id": "A4JtTzXN0f_e",
        "colab_type": "code",
        "colab": {
          "base_uri": "https://localhost:8080/",
          "height": 34
        },
        "outputId": "dbd8bc2c-4c31-42b9-fa35-2a9c58e426fc"
      },
      "source": [
        "y_train_encoded[1]"
      ],
      "execution_count": 34,
      "outputs": [
        {
          "output_type": "execute_result",
          "data": {
            "text/plain": [
              "array([1., 0., 0., 0., 0., 0., 0., 0., 0., 0.], dtype=float32)"
            ]
          },
          "metadata": {
            "tags": []
          },
          "execution_count": 34
        }
      ]
    },
    {
      "cell_type": "code",
      "metadata": {
        "id": "Zf7ogna_y4YJ",
        "colab_type": "code",
        "colab": {}
      },
      "source": [
        "# Normalize the images.\n",
        "x_train_norm = (x_train / 255) - 0.5\n",
        "x_test_norm = (x_test / 255) - 0.5"
      ],
      "execution_count": 35,
      "outputs": []
    },
    {
      "cell_type": "code",
      "metadata": {
        "id": "U08oV9ag1Tx9",
        "colab_type": "code",
        "colab": {
          "base_uri": "https://localhost:8080/",
          "height": 51
        },
        "outputId": "c0cdd8c5-cb81-4e6a-a235-bf14328af966"
      },
      "source": [
        "print(x_train_norm.shape)\n",
        "print(x_train[1,1,1],x_train_norm[1,1,1])\n"
      ],
      "execution_count": 36,
      "outputs": [
        {
          "output_type": "stream",
          "text": [
            "(60000, 28, 28)\n",
            "0 -0.5\n"
          ],
          "name": "stdout"
        }
      ]
    },
    {
      "cell_type": "code",
      "metadata": {
        "id": "U--hLYN_0tPa",
        "colab_type": "code",
        "colab": {}
      },
      "source": [
        "# Flatten the images.\n",
        "x_train_images = x_train_norm.reshape((-1, 784))\n",
        "x_test_images = x_test_norm.reshape((-1, 784))\n"
      ],
      "execution_count": 37,
      "outputs": []
    },
    {
      "cell_type": "code",
      "metadata": {
        "id": "eIfwpLt85GiJ",
        "colab_type": "code",
        "colab": {
          "base_uri": "https://localhost:8080/",
          "height": 85
        },
        "outputId": "fed3277f-a552-4661-8ab1-7968ec520ace"
      },
      "source": [
        "print(x_train_images.shape)\n",
        "print(y_train_encoded.shape)\n",
        "print(x_test_images.shape)\n",
        "print(y_test_encoded.shape)"
      ],
      "execution_count": null,
      "outputs": [
        {
          "output_type": "stream",
          "text": [
            "(60000, 784)\n",
            "(60000, 10)\n",
            "(10000, 784)\n",
            "(10000, 10)\n"
          ],
          "name": "stdout"
        }
      ]
    },
    {
      "cell_type": "code",
      "metadata": {
        "id": "YUeEB5QQ5Tfc",
        "colab_type": "code",
        "colab": {}
      },
      "source": [
        "from keras.models import Sequential\n",
        "from keras.layers import Dense\n",
        "model = Sequential()\n",
        "model.add(Dense(64, input_dim=784, activation='relu'))\n",
        "model.add(Dense(32, activation='relu'))\n",
        "model.add(Dense(10, activation='softmax'))"
      ],
      "execution_count": 38,
      "outputs": []
    },
    {
      "cell_type": "code",
      "metadata": {
        "id": "vttJuVjh5pyT",
        "colab_type": "code",
        "colab": {
          "base_uri": "https://localhost:8080/",
          "height": 255
        },
        "outputId": "bccb7a0b-576e-4606-b693-f4f0d7abc335"
      },
      "source": [
        "model.compile(loss='categorical_crossentropy', optimizer='adam', metrics=['accuracy'])\n",
        "model.summary()"
      ],
      "execution_count": 40,
      "outputs": [
        {
          "output_type": "stream",
          "text": [
            "Model: \"sequential_1\"\n",
            "_________________________________________________________________\n",
            "Layer (type)                 Output Shape              Param #   \n",
            "=================================================================\n",
            "dense_3 (Dense)              (None, 64)                50240     \n",
            "_________________________________________________________________\n",
            "dense_4 (Dense)              (None, 32)                2080      \n",
            "_________________________________________________________________\n",
            "dense_5 (Dense)              (None, 10)                330       \n",
            "=================================================================\n",
            "Total params: 52,650\n",
            "Trainable params: 52,650\n",
            "Non-trainable params: 0\n",
            "_________________________________________________________________\n"
          ],
          "name": "stdout"
        }
      ]
    },
    {
      "cell_type": "code",
      "metadata": {
        "id": "ZB5ZxEZG59Xd",
        "colab_type": "code",
        "colab": {
          "base_uri": "https://localhost:8080/",
          "height": 714
        },
        "outputId": "22a512b6-ccfe-4a11-aad5-0a9b4cf05de8"
      },
      "source": [
        "# Training a model on Train data and at the end it will updates the weights.\n",
        "model.fit(x_train_images, y_train_encoded, epochs=20, batch_size=16)"
      ],
      "execution_count": 41,
      "outputs": [
        {
          "output_type": "stream",
          "text": [
            "Epoch 1/20\n",
            "3750/3750 [==============================] - 5s 1ms/step - loss: 0.3376 - accuracy: 0.8960\n",
            "Epoch 2/20\n",
            "3750/3750 [==============================] - 5s 1ms/step - loss: 0.1820 - accuracy: 0.9444\n",
            "Epoch 3/20\n",
            "3750/3750 [==============================] - 5s 1ms/step - loss: 0.1442 - accuracy: 0.9562\n",
            "Epoch 4/20\n",
            "3750/3750 [==============================] - 5s 1ms/step - loss: 0.1227 - accuracy: 0.9628\n",
            "Epoch 5/20\n",
            "3750/3750 [==============================] - 5s 1ms/step - loss: 0.1107 - accuracy: 0.9661\n",
            "Epoch 6/20\n",
            "3750/3750 [==============================] - 5s 1ms/step - loss: 0.0995 - accuracy: 0.9692\n",
            "Epoch 7/20\n",
            "3750/3750 [==============================] - 5s 1ms/step - loss: 0.0922 - accuracy: 0.9711\n",
            "Epoch 8/20\n",
            "3750/3750 [==============================] - 5s 1ms/step - loss: 0.0842 - accuracy: 0.9733\n",
            "Epoch 9/20\n",
            "3750/3750 [==============================] - 5s 1ms/step - loss: 0.0796 - accuracy: 0.9745\n",
            "Epoch 10/20\n",
            "3750/3750 [==============================] - 5s 1ms/step - loss: 0.0747 - accuracy: 0.9757\n",
            "Epoch 11/20\n",
            "3750/3750 [==============================] - 5s 1ms/step - loss: 0.0720 - accuracy: 0.9774\n",
            "Epoch 12/20\n",
            "3750/3750 [==============================] - 5s 1ms/step - loss: 0.0653 - accuracy: 0.9791\n",
            "Epoch 13/20\n",
            "3750/3750 [==============================] - 5s 1ms/step - loss: 0.0627 - accuracy: 0.9799\n",
            "Epoch 14/20\n",
            "3750/3750 [==============================] - 5s 1ms/step - loss: 0.0610 - accuracy: 0.9807\n",
            "Epoch 15/20\n",
            "3750/3750 [==============================] - 5s 1ms/step - loss: 0.0573 - accuracy: 0.9812\n",
            "Epoch 16/20\n",
            "3750/3750 [==============================] - 5s 1ms/step - loss: 0.0546 - accuracy: 0.9823\n",
            "Epoch 17/20\n",
            "3750/3750 [==============================] - 5s 1ms/step - loss: 0.0547 - accuracy: 0.9827\n",
            "Epoch 18/20\n",
            "3750/3750 [==============================] - 5s 1ms/step - loss: 0.0486 - accuracy: 0.9840\n",
            "Epoch 19/20\n",
            "3750/3750 [==============================] - 5s 1ms/step - loss: 0.0493 - accuracy: 0.9836\n",
            "Epoch 20/20\n",
            "3750/3750 [==============================] - 5s 1ms/step - loss: 0.0468 - accuracy: 0.9848\n"
          ],
          "name": "stdout"
        },
        {
          "output_type": "execute_result",
          "data": {
            "text/plain": [
              "<tensorflow.python.keras.callbacks.History at 0x7f2a197e3550>"
            ]
          },
          "metadata": {
            "tags": []
          },
          "execution_count": 41
        }
      ]
    },
    {
      "cell_type": "code",
      "metadata": {
        "id": "MHZiKa836Ghk",
        "colab_type": "code",
        "colab": {
          "base_uri": "https://localhost:8080/",
          "height": 68
        },
        "outputId": "97438074-2845-49e3-ff90-7d227b2d5578"
      },
      "source": [
        "# Evaluate the model\n",
        "scores = model.evaluate(x_test_images, y_test_encoded)\n",
        "print(\"\\nAccuracy: %.2f%%\" % (scores[1]*100))"
      ],
      "execution_count": 42,
      "outputs": [
        {
          "output_type": "stream",
          "text": [
            "313/313 [==============================] - 0s 915us/step - loss: 0.1065 - accuracy: 0.9717\n",
            "\n",
            "Accuracy: 97.17%\n"
          ],
          "name": "stdout"
        }
      ]
    },
    {
      "cell_type": "code",
      "metadata": {
        "id": "JxQ-QK6m6ti_",
        "colab_type": "code",
        "colab": {}
      },
      "source": [
        "# save the model's saved weights\n",
        "model.save_weights('mnistmodel.h5')\n",
        "\n",
        "#Build the model again and load the weights.\n",
        "\n",
        "# Load the model's saved weights\n",
        "model.load_weights('mnistmodel.h5')"
      ],
      "execution_count": null,
      "outputs": []
    },
    {
      "cell_type": "markdown",
      "metadata": {
        "id": "irtW4XQ98osC",
        "colab_type": "text"
      },
      "source": [
        "You can try below things in this code.\n",
        "1. Effects of Tuning Hyperparameters. (Learning rate, epochs, batch size). Take different values and observ the accuracy.\n",
        "2. Impact of no, of Hidden Layers. Change the number of layer and neurons in the layers.\n",
        "3. Check the impact of Activation functions and dropout.\n",
        "4. You can chose other dataset having only one channel (Gray scale image). (Link: https://www.kaggle.com/zalando-research/fashionmnist)"
      ]
    },
    {
      "cell_type": "code",
      "metadata": {
        "id": "JHnWHiOL9g6x",
        "colab_type": "code",
        "colab": {}
      },
      "source": [
        ""
      ],
      "execution_count": null,
      "outputs": []
    }
  ]
}