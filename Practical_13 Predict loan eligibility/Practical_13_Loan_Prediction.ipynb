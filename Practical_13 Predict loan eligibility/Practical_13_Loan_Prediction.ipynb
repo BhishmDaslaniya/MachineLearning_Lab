{
 "cells": [
  {
   "cell_type": "markdown",
   "metadata": {
    "id": "0BgTFC2g_YGJ"
   },
   "source": [
    "# Practical 13: Predict Loan Eligibility for Dream Housing Finance company\n",
    "---\n",
    "**ID:** 17CE023<br>\n",
    "**Author:** Bhishm Daslaniya<br>\n",
    "\n",
    "---\n",
    "\n",
    "# Problem Statement<br>\n",
    "Dream Housing Finance company deals in all kinds of home loans. They have presence across all urban, semi urban and rural areas. Customer first applies for home loan and after that company validates the customer eligibility for loan.\n",
    "\n",
    "Company wants to automate the loan eligibility process (real time) based on customer detail provided while filling online application form. These details are Gender, Marital Status, Education, Number of Dependents, Income, Loan Amount, Credit History and others. To automate this process, they have provided a dataset to identify the customers segments that are eligible for loan amount so that they can specifically target these customers.\n",
    "\n",
    "Note: Implement using Decision Tree classifier."
   ]
  },
  {
   "cell_type": "markdown",
   "metadata": {
    "id": "KSVki6PHQUtD"
   },
   "source": [
    "# Applying the Pipeline Of Machine Learnig Project\n",
    "- 1. Data Analysis\n",
    "- 2. Feature Engineering\n",
    "- 3. Feature Selection\n",
    "- 4. Model Building\n",
    "- 5. Model Deploymnet (To be deployed later)"
   ]
  },
  {
   "cell_type": "markdown",
   "metadata": {
    "id": "i6HcSV6dQUtF"
   },
   "source": [
    "# 1. Data Analysis (EDA)"
   ]
  },
  {
   "cell_type": "code",
   "execution_count": 1,
   "metadata": {
    "id": "Lzmm82g1QUtG"
   },
   "outputs": [],
   "source": [
    "# import the libraries\n",
    "import pandas as pd\n",
    "import numpy as np\n",
    "import matplotlib.pyplot as plt\n",
    "import seaborn as sns\n",
    "import warnings"
   ]
  },
  {
   "cell_type": "code",
   "execution_count": 2,
   "metadata": {
    "id": "dH6kHUnmQUtQ"
   },
   "outputs": [],
   "source": [
    "# Load the train and test dataset\n",
    "train = pd.read_csv('/content/sample_data/train_ctrUa4K.csv')\n",
    "test = pd.read_csv('/content/sample_data/test_lAUu6dG.csv')"
   ]
  },
  {
   "cell_type": "code",
   "execution_count": 3,
   "metadata": {
    "id": "ICxrtT5FQUtX"
   },
   "outputs": [],
   "source": [
    "# copy of original data\n",
    "train_original = train.copy()\n",
    "test_original = test.copy()"
   ]
  },
  {
   "cell_type": "code",
   "execution_count": 4,
   "metadata": {
    "colab": {
     "base_uri": "https://localhost:8080/",
     "height": 34
    },
    "id": "g9ubwFFxQUtd",
    "outputId": "b1f3bb63-6502-437d-f4c2-fbd4ac06263b"
   },
   "outputs": [
    {
     "data": {
      "text/plain": [
       "((614, 13), (367, 12))"
      ]
     },
     "execution_count": 4,
     "metadata": {
      "tags": []
     },
     "output_type": "execute_result"
    }
   ],
   "source": [
    "train.shape, test.shape"
   ]
  },
  {
   "cell_type": "code",
   "execution_count": 5,
   "metadata": {
    "colab": {
     "base_uri": "https://localhost:8080/",
     "height": 34
    },
    "id": "_yJegoC6QUtk",
    "outputId": "c6f8bc69-4c22-4ef6-e188-003e7b964f6a"
   },
   "outputs": [
    {
     "data": {
      "text/plain": [
       "(0.6258919469928644, 0.37410805300713557)"
      ]
     },
     "execution_count": 5,
     "metadata": {
      "tags": []
     },
     "output_type": "execute_result"
    }
   ],
   "source": [
    "# train test split ratio\n",
    "train.shape[0]/(train.shape[0]+test.shape[0]), test.shape[0]/(train.shape[0]+test.shape[0])"
   ]
  },
  {
   "cell_type": "code",
   "execution_count": 6,
   "metadata": {
    "colab": {
     "base_uri": "https://localhost:8080/",
     "height": 241
    },
    "id": "Iclq7Ao0QUtt",
    "outputId": "d4c26605-d449-4f27-9197-49b2b435e934"
   },
   "outputs": [
    {
     "data": {
      "text/html": [
       "<div>\n",
       "<style scoped>\n",
       "    .dataframe tbody tr th:only-of-type {\n",
       "        vertical-align: middle;\n",
       "    }\n",
       "\n",
       "    .dataframe tbody tr th {\n",
       "        vertical-align: top;\n",
       "    }\n",
       "\n",
       "    .dataframe thead th {\n",
       "        text-align: right;\n",
       "    }\n",
       "</style>\n",
       "<table border=\"1\" class=\"dataframe\">\n",
       "  <thead>\n",
       "    <tr style=\"text-align: right;\">\n",
       "      <th></th>\n",
       "      <th>Loan_ID</th>\n",
       "      <th>Gender</th>\n",
       "      <th>Married</th>\n",
       "      <th>Dependents</th>\n",
       "      <th>Education</th>\n",
       "      <th>Self_Employed</th>\n",
       "      <th>ApplicantIncome</th>\n",
       "      <th>CoapplicantIncome</th>\n",
       "      <th>LoanAmount</th>\n",
       "      <th>Loan_Amount_Term</th>\n",
       "      <th>Credit_History</th>\n",
       "      <th>Property_Area</th>\n",
       "      <th>Loan_Status</th>\n",
       "    </tr>\n",
       "  </thead>\n",
       "  <tbody>\n",
       "    <tr>\n",
       "      <th>0</th>\n",
       "      <td>LP001002</td>\n",
       "      <td>Male</td>\n",
       "      <td>No</td>\n",
       "      <td>0</td>\n",
       "      <td>Graduate</td>\n",
       "      <td>No</td>\n",
       "      <td>5849</td>\n",
       "      <td>0.0</td>\n",
       "      <td>NaN</td>\n",
       "      <td>360.0</td>\n",
       "      <td>1.0</td>\n",
       "      <td>Urban</td>\n",
       "      <td>Y</td>\n",
       "    </tr>\n",
       "    <tr>\n",
       "      <th>1</th>\n",
       "      <td>LP001003</td>\n",
       "      <td>Male</td>\n",
       "      <td>Yes</td>\n",
       "      <td>1</td>\n",
       "      <td>Graduate</td>\n",
       "      <td>No</td>\n",
       "      <td>4583</td>\n",
       "      <td>1508.0</td>\n",
       "      <td>128.0</td>\n",
       "      <td>360.0</td>\n",
       "      <td>1.0</td>\n",
       "      <td>Rural</td>\n",
       "      <td>N</td>\n",
       "    </tr>\n",
       "    <tr>\n",
       "      <th>2</th>\n",
       "      <td>LP001005</td>\n",
       "      <td>Male</td>\n",
       "      <td>Yes</td>\n",
       "      <td>0</td>\n",
       "      <td>Graduate</td>\n",
       "      <td>Yes</td>\n",
       "      <td>3000</td>\n",
       "      <td>0.0</td>\n",
       "      <td>66.0</td>\n",
       "      <td>360.0</td>\n",
       "      <td>1.0</td>\n",
       "      <td>Urban</td>\n",
       "      <td>Y</td>\n",
       "    </tr>\n",
       "    <tr>\n",
       "      <th>3</th>\n",
       "      <td>LP001006</td>\n",
       "      <td>Male</td>\n",
       "      <td>Yes</td>\n",
       "      <td>0</td>\n",
       "      <td>Not Graduate</td>\n",
       "      <td>No</td>\n",
       "      <td>2583</td>\n",
       "      <td>2358.0</td>\n",
       "      <td>120.0</td>\n",
       "      <td>360.0</td>\n",
       "      <td>1.0</td>\n",
       "      <td>Urban</td>\n",
       "      <td>Y</td>\n",
       "    </tr>\n",
       "    <tr>\n",
       "      <th>4</th>\n",
       "      <td>LP001008</td>\n",
       "      <td>Male</td>\n",
       "      <td>No</td>\n",
       "      <td>0</td>\n",
       "      <td>Graduate</td>\n",
       "      <td>No</td>\n",
       "      <td>6000</td>\n",
       "      <td>0.0</td>\n",
       "      <td>141.0</td>\n",
       "      <td>360.0</td>\n",
       "      <td>1.0</td>\n",
       "      <td>Urban</td>\n",
       "      <td>Y</td>\n",
       "    </tr>\n",
       "  </tbody>\n",
       "</table>\n",
       "</div>"
      ],
      "text/plain": [
       "    Loan_ID Gender Married  ... Credit_History Property_Area Loan_Status\n",
       "0  LP001002   Male      No  ...            1.0         Urban           Y\n",
       "1  LP001003   Male     Yes  ...            1.0         Rural           N\n",
       "2  LP001005   Male     Yes  ...            1.0         Urban           Y\n",
       "3  LP001006   Male     Yes  ...            1.0         Urban           Y\n",
       "4  LP001008   Male      No  ...            1.0         Urban           Y\n",
       "\n",
       "[5 rows x 13 columns]"
      ]
     },
     "execution_count": 6,
     "metadata": {
      "tags": []
     },
     "output_type": "execute_result"
    }
   ],
   "source": [
    "# have look over train data \n",
    "train.head()"
   ]
  },
  {
   "cell_type": "code",
   "execution_count": 7,
   "metadata": {
    "colab": {
     "base_uri": "https://localhost:8080/",
     "height": 241
    },
    "id": "O6njZrYyQUt3",
    "outputId": "28e083cb-164c-4dc8-80b0-3ae99f3491cf"
   },
   "outputs": [
    {
     "data": {
      "text/html": [
       "<div>\n",
       "<style scoped>\n",
       "    .dataframe tbody tr th:only-of-type {\n",
       "        vertical-align: middle;\n",
       "    }\n",
       "\n",
       "    .dataframe tbody tr th {\n",
       "        vertical-align: top;\n",
       "    }\n",
       "\n",
       "    .dataframe thead th {\n",
       "        text-align: right;\n",
       "    }\n",
       "</style>\n",
       "<table border=\"1\" class=\"dataframe\">\n",
       "  <thead>\n",
       "    <tr style=\"text-align: right;\">\n",
       "      <th></th>\n",
       "      <th>Loan_ID</th>\n",
       "      <th>Gender</th>\n",
       "      <th>Married</th>\n",
       "      <th>Dependents</th>\n",
       "      <th>Education</th>\n",
       "      <th>Self_Employed</th>\n",
       "      <th>ApplicantIncome</th>\n",
       "      <th>CoapplicantIncome</th>\n",
       "      <th>LoanAmount</th>\n",
       "      <th>Loan_Amount_Term</th>\n",
       "      <th>Credit_History</th>\n",
       "      <th>Property_Area</th>\n",
       "    </tr>\n",
       "  </thead>\n",
       "  <tbody>\n",
       "    <tr>\n",
       "      <th>0</th>\n",
       "      <td>LP001015</td>\n",
       "      <td>Male</td>\n",
       "      <td>Yes</td>\n",
       "      <td>0</td>\n",
       "      <td>Graduate</td>\n",
       "      <td>No</td>\n",
       "      <td>5720</td>\n",
       "      <td>0</td>\n",
       "      <td>110.0</td>\n",
       "      <td>360.0</td>\n",
       "      <td>1.0</td>\n",
       "      <td>Urban</td>\n",
       "    </tr>\n",
       "    <tr>\n",
       "      <th>1</th>\n",
       "      <td>LP001022</td>\n",
       "      <td>Male</td>\n",
       "      <td>Yes</td>\n",
       "      <td>1</td>\n",
       "      <td>Graduate</td>\n",
       "      <td>No</td>\n",
       "      <td>3076</td>\n",
       "      <td>1500</td>\n",
       "      <td>126.0</td>\n",
       "      <td>360.0</td>\n",
       "      <td>1.0</td>\n",
       "      <td>Urban</td>\n",
       "    </tr>\n",
       "    <tr>\n",
       "      <th>2</th>\n",
       "      <td>LP001031</td>\n",
       "      <td>Male</td>\n",
       "      <td>Yes</td>\n",
       "      <td>2</td>\n",
       "      <td>Graduate</td>\n",
       "      <td>No</td>\n",
       "      <td>5000</td>\n",
       "      <td>1800</td>\n",
       "      <td>208.0</td>\n",
       "      <td>360.0</td>\n",
       "      <td>1.0</td>\n",
       "      <td>Urban</td>\n",
       "    </tr>\n",
       "    <tr>\n",
       "      <th>3</th>\n",
       "      <td>LP001035</td>\n",
       "      <td>Male</td>\n",
       "      <td>Yes</td>\n",
       "      <td>2</td>\n",
       "      <td>Graduate</td>\n",
       "      <td>No</td>\n",
       "      <td>2340</td>\n",
       "      <td>2546</td>\n",
       "      <td>100.0</td>\n",
       "      <td>360.0</td>\n",
       "      <td>NaN</td>\n",
       "      <td>Urban</td>\n",
       "    </tr>\n",
       "    <tr>\n",
       "      <th>4</th>\n",
       "      <td>LP001051</td>\n",
       "      <td>Male</td>\n",
       "      <td>No</td>\n",
       "      <td>0</td>\n",
       "      <td>Not Graduate</td>\n",
       "      <td>No</td>\n",
       "      <td>3276</td>\n",
       "      <td>0</td>\n",
       "      <td>78.0</td>\n",
       "      <td>360.0</td>\n",
       "      <td>1.0</td>\n",
       "      <td>Urban</td>\n",
       "    </tr>\n",
       "  </tbody>\n",
       "</table>\n",
       "</div>"
      ],
      "text/plain": [
       "    Loan_ID Gender Married  ... Loan_Amount_Term Credit_History Property_Area\n",
       "0  LP001015   Male     Yes  ...            360.0            1.0         Urban\n",
       "1  LP001022   Male     Yes  ...            360.0            1.0         Urban\n",
       "2  LP001031   Male     Yes  ...            360.0            1.0         Urban\n",
       "3  LP001035   Male     Yes  ...            360.0            NaN         Urban\n",
       "4  LP001051   Male      No  ...            360.0            1.0         Urban\n",
       "\n",
       "[5 rows x 12 columns]"
      ]
     },
     "execution_count": 7,
     "metadata": {
      "tags": []
     },
     "output_type": "execute_result"
    }
   ],
   "source": [
    "# have look over test Data\n",
    "test.head()"
   ]
  },
  {
   "cell_type": "code",
   "execution_count": 8,
   "metadata": {
    "colab": {
     "base_uri": "https://localhost:8080/",
     "height": 255
    },
    "id": "9U_OY2q5QUt9",
    "outputId": "3714a61e-5085-49bc-8143-49993e509d94"
   },
   "outputs": [
    {
     "data": {
      "text/plain": [
       "Loan_ID               0\n",
       "Gender               13\n",
       "Married               3\n",
       "Dependents           15\n",
       "Education             0\n",
       "Self_Employed        32\n",
       "ApplicantIncome       0\n",
       "CoapplicantIncome     0\n",
       "LoanAmount           22\n",
       "Loan_Amount_Term     14\n",
       "Credit_History       50\n",
       "Property_Area         0\n",
       "Loan_Status           0\n",
       "dtype: int64"
      ]
     },
     "execution_count": 8,
     "metadata": {
      "tags": []
     },
     "output_type": "execute_result"
    }
   ],
   "source": [
    "# Checking the null value in train and test data\n",
    "# train data set\n",
    "train.isnull().sum()"
   ]
  },
  {
   "cell_type": "code",
   "execution_count": 9,
   "metadata": {
    "colab": {
     "base_uri": "https://localhost:8080/",
     "height": 238
    },
    "id": "J_-NPktTQUuD",
    "outputId": "f857ea5b-a84c-45c5-9759-03f728b4d635"
   },
   "outputs": [
    {
     "data": {
      "text/plain": [
       "Loan_ID               0\n",
       "Gender               11\n",
       "Married               0\n",
       "Dependents           10\n",
       "Education             0\n",
       "Self_Employed        23\n",
       "ApplicantIncome       0\n",
       "CoapplicantIncome     0\n",
       "LoanAmount            5\n",
       "Loan_Amount_Term      6\n",
       "Credit_History       29\n",
       "Property_Area         0\n",
       "dtype: int64"
      ]
     },
     "execution_count": 9,
     "metadata": {
      "tags": []
     },
     "output_type": "execute_result"
    }
   ],
   "source": [
    "# test data set\n",
    "test.isnull().sum()"
   ]
  },
  {
   "cell_type": "code",
   "execution_count": 10,
   "metadata": {
    "colab": {
     "base_uri": "https://localhost:8080/",
     "height": 369
    },
    "id": "8nnnyOV0QUuJ",
    "outputId": "6b0191ee-d8c7-40dc-88eb-9a2c67afc385"
   },
   "outputs": [
    {
     "data": {
      "text/plain": [
       "<matplotlib.axes._subplots.AxesSubplot at 0x7f82a327f278>"
      ]
     },
     "execution_count": 10,
     "metadata": {
      "tags": []
     },
     "output_type": "execute_result"
    },
    {
     "data": {
      "image/png": "[encoded data removed]",
      "text/plain": [
       "<Figure size 432x288 with 1 Axes>"
      ]
     },
     "metadata": {
      "needs_background": "light",
      "tags": []
     },
     "output_type": "display_data"
    }
   ],
   "source": [
    "# vizualize 'train dataset' null value using heat-map\n",
    "sns.heatmap(train.isnull(), yticklabels = False, cbar = False )"
   ]
  },
  {
   "cell_type": "code",
   "execution_count": 11,
   "metadata": {
    "colab": {
     "base_uri": "https://localhost:8080/",
     "height": 369
    },
    "id": "vjHhZRcwQUuP",
    "outputId": "30760b33-966b-4372-c2a5-a66ccee2f2a3"
   },
   "outputs": [
    {
     "data": {
      "text/plain": [
       "<matplotlib.axes._subplots.AxesSubplot at 0x7f82a32097b8>"
      ]
     },
     "execution_count": 11,
     "metadata": {
      "tags": []
     },
     "output_type": "execute_result"
    },
    {
     "data": {
      "image/png": "[encoded data removed]",
      "text/plain": [
       "<Figure size 432x288 with 1 Axes>"
      ]
     },
     "metadata": {
      "needs_background": "light",
      "tags": []
     },
     "output_type": "display_data"
    }
   ],
   "source": [
    "# vizualize 'test dataset' null value using heat-map\n",
    "sns.heatmap(test.isnull(), yticklabels = False, cbar = False )"
   ]
  },
  {
   "cell_type": "markdown",
   "metadata": {
    "id": "nBASxBdiQUuY"
   },
   "source": [
    "**Note**: From above graph it can be vizualise that there is lot of null value in our train and test dataset"
   ]
  },
  {
   "cell_type": "code",
   "execution_count": 11,
   "metadata": {
    "id": "4UT9ZDyyQUuZ"
   },
   "outputs": [],
   "source": []
  },
  {
   "cell_type": "markdown",
   "metadata": {
    "id": "4jmQNa_EQUuf"
   },
   "source": [
    "**Note: ** So we have 13 feature and 614 rows in train dataset and 12 feature and 367 rows in test dataset, and train-test-split ratio of 63% and 37%."
   ]
  },
  {
   "cell_type": "code",
   "execution_count": 12,
   "metadata": {
    "colab": {
     "base_uri": "https://localhost:8080/",
     "height": 255
    },
    "id": "nFoC5AEVQUug",
    "outputId": "c560d188-57ad-4d60-9147-1674926d7f22"
   },
   "outputs": [
    {
     "data": {
      "text/plain": [
       "Loan_ID               object\n",
       "Gender                object\n",
       "Married               object\n",
       "Dependents            object\n",
       "Education             object\n",
       "Self_Employed         object\n",
       "ApplicantIncome        int64\n",
       "CoapplicantIncome    float64\n",
       "LoanAmount           float64\n",
       "Loan_Amount_Term     float64\n",
       "Credit_History       float64\n",
       "Property_Area         object\n",
       "Loan_Status           object\n",
       "dtype: object"
      ]
     },
     "execution_count": 12,
     "metadata": {
      "tags": []
     },
     "output_type": "execute_result"
    }
   ],
   "source": [
    "# exploring the data types of train and test dataset\n",
    "train.dtypes"
   ]
  },
  {
   "cell_type": "code",
   "execution_count": 13,
   "metadata": {
    "colab": {
     "base_uri": "https://localhost:8080/",
     "height": 238
    },
    "id": "b1t0MeWWQUul",
    "outputId": "4fc47d54-115e-470c-e11c-decc547ffc71"
   },
   "outputs": [
    {
     "data": {
      "text/plain": [
       "Loan_ID               object\n",
       "Gender                object\n",
       "Married               object\n",
       "Dependents            object\n",
       "Education             object\n",
       "Self_Employed         object\n",
       "ApplicantIncome        int64\n",
       "CoapplicantIncome      int64\n",
       "LoanAmount           float64\n",
       "Loan_Amount_Term     float64\n",
       "Credit_History       float64\n",
       "Property_Area         object\n",
       "dtype: object"
      ]
     },
     "execution_count": 13,
     "metadata": {
      "tags": []
     },
     "output_type": "execute_result"
    }
   ],
   "source": [
    "test.dtypes"
   ]
  },
  {
   "cell_type": "markdown",
   "metadata": {
    "id": "aselmVEeQUus"
   },
   "source": [
    "**Note: ** Three datatypes in dataset\n",
    "- object\n",
    "- int64\n",
    "- float64"
   ]
  },
  {
   "cell_type": "markdown",
   "metadata": {
    "id": "EtiQsmXBQUut"
   },
   "source": [
    "# Univariate Analysis\n",
    "Analysing Each variable individually, the key fact is that only one variable is involved.\n"
   ]
  },
  {
   "cell_type": "markdown",
   "metadata": {
    "id": "yrB8dvqPQUuu"
   },
   "source": [
    "### Target variable"
   ]
  },
  {
   "cell_type": "code",
   "execution_count": 14,
   "metadata": {
    "colab": {
     "base_uri": "https://localhost:8080/",
     "height": 68
    },
    "id": "GgtrlZdSQUuv",
    "outputId": "5c607385-a2a9-4420-e817-0a2e685c2846"
   },
   "outputs": [
    {
     "data": {
      "text/plain": [
       "Y    422\n",
       "N    192\n",
       "Name: Loan_Status, dtype: int64"
      ]
     },
     "execution_count": 14,
     "metadata": {
      "tags": []
     },
     "output_type": "execute_result"
    }
   ],
   "source": [
    "# target variable\n",
    "train['Loan_Status'].value_counts()"
   ]
  },
  {
   "cell_type": "code",
   "execution_count": 15,
   "metadata": {
    "colab": {
     "base_uri": "https://localhost:8080/",
     "height": 68
    },
    "id": "6OK1mGQ7QUu0",
    "outputId": "0d9ac184-cd72-45f6-ef63-d38b71271a4d"
   },
   "outputs": [
    {
     "data": {
      "text/plain": [
       "Y    0.687296\n",
       "N    0.312704\n",
       "Name: Loan_Status, dtype: float64"
      ]
     },
     "execution_count": 15,
     "metadata": {
      "tags": []
     },
     "output_type": "execute_result"
    }
   ],
   "source": [
    "# percentage distribution of 'Loan_Status'\n",
    "train['Loan_Status'].value_counts(normalize = True)"
   ]
  },
  {
   "cell_type": "code",
   "execution_count": 16,
   "metadata": {
    "colab": {
     "base_uri": "https://localhost:8080/",
     "height": 351
    },
    "id": "mBnxgRwcQUu-",
    "outputId": "26164631-9865-4426-ad39-7ee41eb37651"
   },
   "outputs": [
    {
     "name": "stderr",
     "output_type": "stream",
     "text": [
      "/usr/local/lib/python3.6/dist-packages/seaborn/_decorators.py:43: FutureWarning: Pass the following variable as a keyword arg: x. From version 0.12, the only valid positional argument will be `data`, and passing other arguments without an explicit keyword will result in an error or misinterpretation.\n",
      "  FutureWarning\n"
     ]
    },
    {
     "data": {
      "text/plain": [
       "<matplotlib.axes._subplots.AxesSubplot at 0x7f82a025b358>"
      ]
     },
     "execution_count": 16,
     "metadata": {
      "tags": []
     },
     "output_type": "execute_result"
    },
    {
     "data": {
      "image/png": "[encoded data removed]",
      "text/plain": [
       "<Figure size 432x288 with 1 Axes>"
      ]
     },
     "metadata": {
      "needs_background": "light",
      "tags": []
     },
     "output_type": "display_data"
    }
   ],
   "source": [
    "#plot to vizualise \n",
    "sns.countplot('Loan_Status', data = train)"
   ]
  },
  {
   "cell_type": "markdown",
   "metadata": {
    "id": "GEqGCHB8QUvD"
   },
   "source": [
    "# Independent Variable (Categorical)"
   ]
  },
  {
   "cell_type": "markdown",
   "metadata": {
    "id": "_du2yhmPQUvE"
   },
   "source": [
    "### Gender"
   ]
  },
  {
   "cell_type": "code",
   "execution_count": 17,
   "metadata": {
    "colab": {
     "base_uri": "https://localhost:8080/",
     "height": 68
    },
    "id": "6iCybIR6QUvF",
    "outputId": "698ab7c2-2f95-4e95-89b3-7b5d9b83ea37"
   },
   "outputs": [
    {
     "data": {
      "text/plain": [
       "Male      0.813644\n",
       "Female    0.186356\n",
       "Name: Gender, dtype: float64"
      ]
     },
     "execution_count": 17,
     "metadata": {
      "tags": []
     },
     "output_type": "execute_result"
    }
   ],
   "source": [
    "# Gender\n",
    "train['Gender'].value_counts(normalize = True)"
   ]
  },
  {
   "cell_type": "code",
   "execution_count": 18,
   "metadata": {
    "colab": {
     "base_uri": "https://localhost:8080/",
     "height": 350
    },
    "id": "RIkHQ5gZQUvL",
    "outputId": "a4965381-f51f-4c4d-df55-9af33491a094"
   },
   "outputs": [
    {
     "name": "stderr",
     "output_type": "stream",
     "text": [
      "/usr/local/lib/python3.6/dist-packages/seaborn/_decorators.py:43: FutureWarning: Pass the following variable as a keyword arg: x. From version 0.12, the only valid positional argument will be `data`, and passing other arguments without an explicit keyword will result in an error or misinterpretation.\n",
      "  FutureWarning\n"
     ]
    },
    {
     "data": {
      "text/plain": [
       "<matplotlib.axes._subplots.AxesSubplot at 0x7f829f9d8b70>"
      ]
     },
     "execution_count": 18,
     "metadata": {
      "tags": []
     },
     "output_type": "execute_result"
    },
    {
     "data": {
      "image/png": "[encoded data removed]",
      "text/plain": [
       "<Figure size 432x288 with 1 Axes>"
      ]
     },
     "metadata": {
      "needs_background": "light",
      "tags": []
     },
     "output_type": "display_data"
    }
   ],
   "source": [
    "sns.countplot('Gender', data = train)"
   ]
  },
  {
   "cell_type": "markdown",
   "metadata": {
    "id": "1XLleMYHQUvR"
   },
   "source": [
    "### Married"
   ]
  },
  {
   "cell_type": "code",
   "execution_count": 19,
   "metadata": {
    "colab": {
     "base_uri": "https://localhost:8080/",
     "height": 350
    },
    "id": "B1DBN6p1QUvS",
    "outputId": "a7f03a74-57bb-4be4-b043-03d659e212e7"
   },
   "outputs": [
    {
     "name": "stderr",
     "output_type": "stream",
     "text": [
      "/usr/local/lib/python3.6/dist-packages/seaborn/_decorators.py:43: FutureWarning: Pass the following variable as a keyword arg: x. From version 0.12, the only valid positional argument will be `data`, and passing other arguments without an explicit keyword will result in an error or misinterpretation.\n",
      "  FutureWarning\n"
     ]
    },
    {
     "data": {
      "text/plain": [
       "<matplotlib.axes._subplots.AxesSubplot at 0x7f829f9af400>"
      ]
     },
     "execution_count": 19,
     "metadata": {
      "tags": []
     },
     "output_type": "execute_result"
    },
    {
     "data": {
      "image/png": "[encoded data removed]",
      "text/plain": [
       "<Figure size 432x288 with 1 Axes>"
      ]
     },
     "metadata": {
      "needs_background": "light",
      "tags": []
     },
     "output_type": "display_data"
    }
   ],
   "source": [
    "# Married\n",
    "sns.countplot('Married', data = train)"
   ]
  },
  {
   "cell_type": "markdown",
   "metadata": {
    "id": "woaAWzrPQUvX"
   },
   "source": [
    "### Self Employed"
   ]
  },
  {
   "cell_type": "code",
   "execution_count": 20,
   "metadata": {
    "colab": {
     "base_uri": "https://localhost:8080/",
     "height": 351
    },
    "id": "awBIY-SGQUvY",
    "outputId": "1564f031-aafe-4ab5-fb11-cb358d65229f"
   },
   "outputs": [
    {
     "name": "stderr",
     "output_type": "stream",
     "text": [
      "/usr/local/lib/python3.6/dist-packages/seaborn/_decorators.py:43: FutureWarning: Pass the following variable as a keyword arg: x. From version 0.12, the only valid positional argument will be `data`, and passing other arguments without an explicit keyword will result in an error or misinterpretation.\n",
      "  FutureWarning\n"
     ]
    },
    {
     "data": {
      "text/plain": [
       "<matplotlib.axes._subplots.AxesSubplot at 0x7f829f910be0>"
      ]
     },
     "execution_count": 20,
     "metadata": {
      "tags": []
     },
     "output_type": "execute_result"
    },
    {
     "data": {
      "image/png": "[encoded data removed]",
      "text/plain": [
       "<Figure size 432x288 with 1 Axes>"
      ]
     },
     "metadata": {
      "needs_background": "light",
      "tags": []
     },
     "output_type": "display_data"
    }
   ],
   "source": [
    "#Self_Employed\n",
    "sns.countplot('Self_Employed', data = train)"
   ]
  },
  {
   "cell_type": "code",
   "execution_count": 21,
   "metadata": {
    "colab": {
     "base_uri": "https://localhost:8080/",
     "height": 68
    },
    "id": "Cze0XmbLQUvf",
    "outputId": "1adf6944-7adf-4968-931b-a4a96dc366dd"
   },
   "outputs": [
    {
     "data": {
      "text/plain": [
       "No     0.859107\n",
       "Yes    0.140893\n",
       "Name: Self_Employed, dtype: float64"
      ]
     },
     "execution_count": 21,
     "metadata": {
      "tags": []
     },
     "output_type": "execute_result"
    }
   ],
   "source": [
    "train['Self_Employed'].value_counts(normalize = True)"
   ]
  },
  {
   "cell_type": "markdown",
   "metadata": {
    "id": "-vOsFx_WQUvq"
   },
   "source": [
    "### Credit History"
   ]
  },
  {
   "cell_type": "code",
   "execution_count": 22,
   "metadata": {
    "colab": {
     "base_uri": "https://localhost:8080/",
     "height": 351
    },
    "id": "I01hSUOlQUvs",
    "outputId": "ed290c4f-f190-45e7-b552-a571fd5c6793"
   },
   "outputs": [
    {
     "name": "stderr",
     "output_type": "stream",
     "text": [
      "/usr/local/lib/python3.6/dist-packages/seaborn/_decorators.py:43: FutureWarning: Pass the following variable as a keyword arg: x. From version 0.12, the only valid positional argument will be `data`, and passing other arguments without an explicit keyword will result in an error or misinterpretation.\n",
      "  FutureWarning\n"
     ]
    },
    {
     "data": {
      "text/plain": [
       "<matplotlib.axes._subplots.AxesSubplot at 0x7f829f936588>"
      ]
     },
     "execution_count": 22,
     "metadata": {
      "tags": []
     },
     "output_type": "execute_result"
    },
    {
     "data": {
      "image/png": "[encoded data removed]",
      "text/plain": [
       "<Figure size 432x288 with 1 Axes>"
      ]
     },
     "metadata": {
      "needs_background": "light",
      "tags": []
     },
     "output_type": "display_data"
    }
   ],
   "source": [
    "#Credit_History\n",
    "sns.countplot('Credit_History', data = train)"
   ]
  },
  {
   "cell_type": "code",
   "execution_count": 23,
   "metadata": {
    "colab": {
     "base_uri": "https://localhost:8080/",
     "height": 68
    },
    "id": "Az2DdGGmQUv5",
    "outputId": "687b166a-85cc-4db3-befb-b85854a91de9"
   },
   "outputs": [
    {
     "data": {
      "text/plain": [
       "1.0    0.842199\n",
       "0.0    0.157801\n",
       "Name: Credit_History, dtype: float64"
      ]
     },
     "execution_count": 23,
     "metadata": {
      "tags": []
     },
     "output_type": "execute_result"
    }
   ],
   "source": [
    "train['Credit_History'].value_counts(normalize = True)"
   ]
  },
  {
   "cell_type": "markdown",
   "metadata": {
    "id": "kQpM_G3VQUwB"
   },
   "source": [
    "### Education"
   ]
  },
  {
   "cell_type": "code",
   "execution_count": 24,
   "metadata": {
    "colab": {
     "base_uri": "https://localhost:8080/",
     "height": 353
    },
    "id": "giiaruPhQUwC",
    "outputId": "1c03a6c5-ee34-45c0-aa59-3f2f03e202ac"
   },
   "outputs": [
    {
     "name": "stderr",
     "output_type": "stream",
     "text": [
      "/usr/local/lib/python3.6/dist-packages/seaborn/_decorators.py:43: FutureWarning: Pass the following variable as a keyword arg: x. From version 0.12, the only valid positional argument will be `data`, and passing other arguments without an explicit keyword will result in an error or misinterpretation.\n",
      "  FutureWarning\n"
     ]
    },
    {
     "data": {
      "text/plain": [
       "<matplotlib.axes._subplots.AxesSubplot at 0x7f82a09b42e8>"
      ]
     },
     "execution_count": 24,
     "metadata": {
      "tags": []
     },
     "output_type": "execute_result"
    },
    {
     "data": {
      "image/png": "[encoded data removed]",
      "text/plain": [
       "<Figure size 432x288 with 1 Axes>"
      ]
     },
     "metadata": {
      "needs_background": "light",
      "tags": []
     },
     "output_type": "display_data"
    }
   ],
   "source": [
    "#Education\n",
    "sns.countplot('Education', data = train)"
   ]
  },
  {
   "cell_type": "code",
   "execution_count": 25,
   "metadata": {
    "colab": {
     "base_uri": "https://localhost:8080/",
     "height": 68
    },
    "id": "hsqVNZA8QUwK",
    "outputId": "8b3ba4b5-3d93-4135-d3a3-3e7e5671d7a4"
   },
   "outputs": [
    {
     "data": {
      "text/plain": [
       "Graduate        0.781759\n",
       "Not Graduate    0.218241\n",
       "Name: Education, dtype: float64"
      ]
     },
     "execution_count": 25,
     "metadata": {
      "tags": []
     },
     "output_type": "execute_result"
    }
   ],
   "source": [
    "train['Education'].value_counts(normalize = True)"
   ]
  },
  {
   "cell_type": "markdown",
   "metadata": {
    "id": "vqGpl5iaQUwS"
   },
   "source": [
    "So from the above plot and value count analysis it can be says that\n",
    "- 81% applicant are male in dataset\n",
    "- 65% appliant are married in dataset\n",
    "- 15% applicants are self employed.\n",
    "- 85% applicants have credit history.\n",
    "- 80% applicants are Graduate.\n",
    " "
   ]
  },
  {
   "cell_type": "markdown",
   "metadata": {
    "id": "AQVWPw9XQUwT"
   },
   "source": [
    "# Ordinal Variable "
   ]
  },
  {
   "cell_type": "markdown",
   "metadata": {
    "id": "bofTzjKHQUwU"
   },
   "source": [
    "### Dependents"
   ]
  },
  {
   "cell_type": "code",
   "execution_count": 26,
   "metadata": {
    "colab": {
     "base_uri": "https://localhost:8080/",
     "height": 350
    },
    "id": "0RU37iYDQUwW",
    "outputId": "3d5aafc4-9d21-47c6-cea6-3c7e9abc0097"
   },
   "outputs": [
    {
     "name": "stderr",
     "output_type": "stream",
     "text": [
      "/usr/local/lib/python3.6/dist-packages/seaborn/_decorators.py:43: FutureWarning: Pass the following variable as a keyword arg: x. From version 0.12, the only valid positional argument will be `data`, and passing other arguments without an explicit keyword will result in an error or misinterpretation.\n",
      "  FutureWarning\n"
     ]
    },
    {
     "data": {
      "text/plain": [
       "<matplotlib.axes._subplots.AxesSubplot at 0x7f82a027b390>"
      ]
     },
     "execution_count": 26,
     "metadata": {
      "tags": []
     },
     "output_type": "execute_result"
    },
    {
     "data": {
      "image/png": "[encoded data removed]",
      "text/plain": [
       "<Figure size 432x288 with 1 Axes>"
      ]
     },
     "metadata": {
      "needs_background": "light",
      "tags": []
     },
     "output_type": "display_data"
    }
   ],
   "source": [
    "#Dependents\n",
    "sns.countplot('Dependents', data = train)"
   ]
  },
  {
   "cell_type": "markdown",
   "metadata": {
    "id": "3XgReiKtQUwg"
   },
   "source": [
    "### Property Area"
   ]
  },
  {
   "cell_type": "code",
   "execution_count": 27,
   "metadata": {
    "colab": {
     "base_uri": "https://localhost:8080/",
     "height": 351
    },
    "id": "OyoXRBzKQUwg",
    "outputId": "c4ebda4a-d632-4f28-bdb7-f26231d96038"
   },
   "outputs": [
    {
     "name": "stderr",
     "output_type": "stream",
     "text": [
      "/usr/local/lib/python3.6/dist-packages/seaborn/_decorators.py:43: FutureWarning: Pass the following variable as a keyword arg: x. From version 0.12, the only valid positional argument will be `data`, and passing other arguments without an explicit keyword will result in an error or misinterpretation.\n",
      "  FutureWarning\n"
     ]
    },
    {
     "data": {
      "text/plain": [
       "<matplotlib.axes._subplots.AxesSubplot at 0x7f829f7c8e10>"
      ]
     },
     "execution_count": 27,
     "metadata": {
      "tags": []
     },
     "output_type": "execute_result"
    },
    {
     "data": {
      "image/png": "[encoded data removed]",
      "text/plain": [
       "<Figure size 432x288 with 1 Axes>"
      ]
     },
     "metadata": {
      "needs_background": "light",
      "tags": []
     },
     "output_type": "display_data"
    }
   ],
   "source": [
    "#Property_Area\n",
    "sns.countplot('Property_Area' ,data = train)"
   ]
  },
  {
   "cell_type": "markdown",
   "metadata": {
    "id": "9zMhIr5PQUwl"
   },
   "source": [
    "From above it can be concluded that\n",
    "- Most of the applicant have no any dependents\n",
    "- Majority of the applicants belong from SemiUrban region"
   ]
  },
  {
   "cell_type": "markdown",
   "metadata": {
    "id": "8pF3xlK9QUwm"
   },
   "source": [
    "# Numerical Variable "
   ]
  },
  {
   "cell_type": "markdown",
   "metadata": {
    "id": "tFOQjmW6QUwm"
   },
   "source": [
    "### Applicant Income"
   ]
  },
  {
   "cell_type": "code",
   "execution_count": 28,
   "metadata": {
    "colab": {
     "base_uri": "https://localhost:8080/",
     "height": 379
    },
    "id": "XG9XAKigQUwn",
    "outputId": "0e4eb529-9347-4f22-a2cb-c8aee06592d3"
   },
   "outputs": [
    {
     "name": "stderr",
     "output_type": "stream",
     "text": [
      "/usr/local/lib/python3.6/dist-packages/seaborn/distributions.py:2551: FutureWarning: `distplot` is a deprecated function and will be removed in a future version. Please adapt your code to use either `displot` (a figure-level function with similar flexibility) or `histplot` (an axes-level function for histograms).\n",
      "  warnings.warn(msg, FutureWarning)\n"
     ]
    },
    {
     "data": {
      "image/png": "[encoded data removed]",
      "text/plain": [
       "<Figure size 1152x360 with 2 Axes>"
      ]
     },
     "metadata": {
      "needs_background": "light",
      "tags": []
     },
     "output_type": "display_data"
    }
   ],
   "source": [
    "#ApplicantIncome\n",
    "plt.subplot(121)\n",
    "sns.distplot(train['ApplicantIncome']);\n",
    "\n",
    "plt.subplot(122)\n",
    "train['ApplicantIncome'].plot.box(figsize=(16,5))\n",
    "\n",
    "plt.show()"
   ]
  },
  {
   "cell_type": "markdown",
   "metadata": {
    "id": "K49Yk7D4QUwr"
   },
   "source": [
    "From Above it can be observe applicant income is towards left which means it is not normally distributed. Right skewed distribution.\n",
    "and from boxplot it can be observe that there is lot of outliers."
   ]
  },
  {
   "cell_type": "markdown",
   "metadata": {
    "id": "4y5RnV1JQUws"
   },
   "source": [
    "### Coapplicant"
   ]
  },
  {
   "cell_type": "code",
   "execution_count": 29,
   "metadata": {
    "colab": {
     "base_uri": "https://localhost:8080/",
     "height": 382
    },
    "id": "KFpIF4I1QUwt",
    "outputId": "36264c9f-5b7f-4818-d3ae-4350a8003e66"
   },
   "outputs": [
    {
     "name": "stderr",
     "output_type": "stream",
     "text": [
      "/usr/local/lib/python3.6/dist-packages/seaborn/distributions.py:2551: FutureWarning: `distplot` is a deprecated function and will be removed in a future version. Please adapt your code to use either `displot` (a figure-level function with similar flexibility) or `histplot` (an axes-level function for histograms).\n",
      "  warnings.warn(msg, FutureWarning)\n"
     ]
    },
    {
     "data": {
      "image/png": "[encoded data removed]",
      "text/plain": [
       "<Figure size 1152x360 with 2 Axes>"
      ]
     },
     "metadata": {
      "needs_background": "light",
      "tags": []
     },
     "output_type": "display_data"
    }
   ],
   "source": [
    "# Coapplicant income distribution\n",
    "plt.subplot(121)\n",
    "sns.distplot(train['CoapplicantIncome']);\n",
    "\n",
    "plt.subplot(122)\n",
    "train['CoapplicantIncome'].plot.box(figsize=(16,5))\n",
    "\n",
    "plt.show()"
   ]
  },
  {
   "cell_type": "markdown",
   "metadata": {
    "id": "bUjOOPRBQUwy"
   },
   "source": [
    "Same analysis as in previous case"
   ]
  },
  {
   "cell_type": "markdown",
   "metadata": {
    "id": "yFMdxVRmQUwz"
   },
   "source": [
    "### Loan_Amount_Term"
   ]
  },
  {
   "cell_type": "code",
   "execution_count": 30,
   "metadata": {
    "colab": {
     "base_uri": "https://localhost:8080/",
     "height": 204
    },
    "id": "bw8cGZbcQUw0",
    "outputId": "c991a8b4-1574-4dfa-bc11-b933f3a7a766"
   },
   "outputs": [
    {
     "data": {
      "text/plain": [
       "360.0    0.853333\n",
       "180.0    0.073333\n",
       "480.0    0.025000\n",
       "300.0    0.021667\n",
       "84.0     0.006667\n",
       "240.0    0.006667\n",
       "120.0    0.005000\n",
       "36.0     0.003333\n",
       "60.0     0.003333\n",
       "12.0     0.001667\n",
       "Name: Loan_Amount_Term, dtype: float64"
      ]
     },
     "execution_count": 30,
     "metadata": {
      "tags": []
     },
     "output_type": "execute_result"
    }
   ],
   "source": [
    "#Loan_Amount_Term\n",
    "train['Loan_Amount_Term'].value_counts(normalize = True)"
   ]
  },
  {
   "cell_type": "code",
   "execution_count": 31,
   "metadata": {
    "colab": {
     "base_uri": "https://localhost:8080/",
     "height": 204
    },
    "id": "6Y4AtG0vQUw5",
    "outputId": "4d35c6c8-5d0a-4edb-ebda-db6d6ba242e8"
   },
   "outputs": [
    {
     "data": {
      "text/plain": [
       "360.0    512\n",
       "180.0     44\n",
       "480.0     15\n",
       "300.0     13\n",
       "84.0       4\n",
       "240.0      4\n",
       "120.0      3\n",
       "36.0       2\n",
       "60.0       2\n",
       "12.0       1\n",
       "Name: Loan_Amount_Term, dtype: int64"
      ]
     },
     "execution_count": 31,
     "metadata": {
      "tags": []
     },
     "output_type": "execute_result"
    }
   ],
   "source": [
    "train['Loan_Amount_Term'].value_counts()"
   ]
  },
  {
   "cell_type": "code",
   "execution_count": 32,
   "metadata": {
    "colab": {
     "base_uri": "https://localhost:8080/",
     "height": 351
    },
    "id": "KUa9A00bQUw9",
    "outputId": "d7cc3531-84bd-447b-fbe7-297e67e248a1"
   },
   "outputs": [
    {
     "name": "stderr",
     "output_type": "stream",
     "text": [
      "/usr/local/lib/python3.6/dist-packages/seaborn/_decorators.py:43: FutureWarning: Pass the following variable as a keyword arg: x. From version 0.12, the only valid positional argument will be `data`, and passing other arguments without an explicit keyword will result in an error or misinterpretation.\n",
      "  FutureWarning\n"
     ]
    },
    {
     "data": {
      "text/plain": [
       "<matplotlib.axes._subplots.AxesSubplot at 0x7f829f4b12e8>"
      ]
     },
     "execution_count": 32,
     "metadata": {
      "tags": []
     },
     "output_type": "execute_result"
    },
    {
     "data": {
      "image/png": "[encoded data removed]",
      "text/plain": [
       "<Figure size 432x288 with 1 Axes>"
      ]
     },
     "metadata": {
      "needs_background": "light",
      "tags": []
     },
     "output_type": "display_data"
    }
   ],
   "source": [
    "sns.countplot('Loan_Amount_Term', data = train)"
   ]
  },
  {
   "cell_type": "markdown",
   "metadata": {
    "id": "2OlQmzcrQUxA"
   },
   "source": [
    "Around 86% Loan term is of 360 month"
   ]
  },
  {
   "cell_type": "code",
   "execution_count": 32,
   "metadata": {
    "id": "K8Zr-u41QUxA"
   },
   "outputs": [],
   "source": []
  },
  {
   "cell_type": "markdown",
   "metadata": {
    "id": "tfoPEDM1QUxC"
   },
   "source": [
    "# Bivariate Analysis\n",
    "Exploring variable with respect to target variable and categorical Independent variables"
   ]
  },
  {
   "cell_type": "markdown",
   "metadata": {
    "id": "_NyNeijMQUxD"
   },
   "source": [
    "## Categorical Independent Variable vs Target Variable"
   ]
  },
  {
   "cell_type": "markdown",
   "metadata": {
    "id": "cHumuOUrQUxD"
   },
   "source": [
    "### Gender vs Loan_Status "
   ]
  },
  {
   "cell_type": "code",
   "execution_count": 33,
   "metadata": {
    "colab": {
     "base_uri": "https://localhost:8080/",
     "height": 297
    },
    "id": "9CPV_Et9QUxE",
    "outputId": "3718ebd2-1e6c-4ce8-e2ed-982169258af5"
   },
   "outputs": [
    {
     "data": {
      "text/plain": [
       "<matplotlib.axes._subplots.AxesSubplot at 0x7f829f43dc88>"
      ]
     },
     "execution_count": 33,
     "metadata": {
      "tags": []
     },
     "output_type": "execute_result"
    },
    {
     "data": {
      "image/png": "[encoded data removed]",
      "text/plain": [
       "<Figure size 432x288 with 1 Axes>"
      ]
     },
     "metadata": {
      "needs_background": "light",
      "tags": []
     },
     "output_type": "display_data"
    }
   ],
   "source": [
    "#Gender vs Loan_Status\n",
    "sns.countplot(x=\"Gender\",hue=\"Loan_Status\",data=train)"
   ]
  },
  {
   "cell_type": "code",
   "execution_count": 34,
   "metadata": {
    "colab": {
     "base_uri": "https://localhost:8080/",
     "height": 418
    },
    "id": "zWCD507bQUxG",
    "outputId": "79344696-0657-468d-ba1d-cde8682f9a1d"
   },
   "outputs": [
    {
     "name": "stdout",
     "output_type": "stream",
     "text": [
      "Loan_Status    N    Y\n",
      "Married              \n",
      "No            79  134\n",
      "Yes          113  285\n"
     ]
    },
    {
     "name": "stderr",
     "output_type": "stream",
     "text": [
      "/usr/local/lib/python3.6/dist-packages/seaborn/_decorators.py:43: FutureWarning: Pass the following variable as a keyword arg: x. From version 0.12, the only valid positional argument will be `data`, and passing other arguments without an explicit keyword will result in an error or misinterpretation.\n",
      "  FutureWarning\n"
     ]
    },
    {
     "data": {
      "text/plain": [
       "<matplotlib.axes._subplots.AxesSubplot at 0x7f829f86fda0>"
      ]
     },
     "execution_count": 34,
     "metadata": {
      "tags": []
     },
     "output_type": "execute_result"
    },
    {
     "data": {
      "image/png": "[encoded data removed]",
      "text/plain": [
       "<Figure size 432x288 with 1 Axes>"
      ]
     },
     "metadata": {
      "needs_background": "light",
      "tags": []
     },
     "output_type": "display_data"
    }
   ],
   "source": [
    "print(pd.crosstab(train['Married'],train['Loan_Status']))\n",
    "sns.countplot('Married', hue ='Loan_Status', data = train)"
   ]
  },
  {
   "cell_type": "markdown",
   "metadata": {
    "id": "dOqePUhnQUxK"
   },
   "source": [
    "### Dependents vs Loan_Status"
   ]
  },
  {
   "cell_type": "code",
   "execution_count": 35,
   "metadata": {
    "colab": {
     "base_uri": "https://localhost:8080/",
     "height": 452
    },
    "id": "YQWc4PupQUxK",
    "outputId": "499335ef-01fb-4076-9786-cb05f762bd93"
   },
   "outputs": [
    {
     "name": "stdout",
     "output_type": "stream",
     "text": [
      "Loan_Status    N    Y\n",
      "Dependents           \n",
      "0            107  238\n",
      "1             36   66\n",
      "2             25   76\n",
      "3+            18   33\n"
     ]
    },
    {
     "name": "stderr",
     "output_type": "stream",
     "text": [
      "/usr/local/lib/python3.6/dist-packages/seaborn/_decorators.py:43: FutureWarning: Pass the following variable as a keyword arg: x. From version 0.12, the only valid positional argument will be `data`, and passing other arguments without an explicit keyword will result in an error or misinterpretation.\n",
      "  FutureWarning\n"
     ]
    },
    {
     "data": {
      "text/plain": [
       "<matplotlib.axes._subplots.AxesSubplot at 0x7f829f3bb9e8>"
      ]
     },
     "execution_count": 35,
     "metadata": {
      "tags": []
     },
     "output_type": "execute_result"
    },
    {
     "data": {
      "image/png": "[encoded data removed]",
      "text/plain": [
       "<Figure size 432x288 with 1 Axes>"
      ]
     },
     "metadata": {
      "needs_background": "light",
      "tags": []
     },
     "output_type": "display_data"
    }
   ],
   "source": [
    "# Dependents vs Loan_Status\n",
    "print(pd.crosstab(train['Dependents'], train['Loan_Status']))\n",
    "sns.countplot('Dependents', hue ='Loan_Status', data = train)"
   ]
  },
  {
   "cell_type": "markdown",
   "metadata": {
    "id": "hHNcaa5DQUxP"
   },
   "source": [
    "### Education vs Loan_Status"
   ]
  },
  {
   "cell_type": "code",
   "execution_count": 36,
   "metadata": {
    "colab": {
     "base_uri": "https://localhost:8080/",
     "height": 418
    },
    "id": "yR2DoOwmQUxQ",
    "outputId": "ae5dcd89-afac-4a2f-9f3e-e5c2216880f4"
   },
   "outputs": [
    {
     "name": "stdout",
     "output_type": "stream",
     "text": [
      "Loan_Status     N    Y\n",
      "Education             \n",
      "Graduate      140  340\n",
      "Not Graduate   52   82\n"
     ]
    },
    {
     "name": "stderr",
     "output_type": "stream",
     "text": [
      "/usr/local/lib/python3.6/dist-packages/seaborn/_decorators.py:43: FutureWarning: Pass the following variable as a keyword arg: x. From version 0.12, the only valid positional argument will be `data`, and passing other arguments without an explicit keyword will result in an error or misinterpretation.\n",
      "  FutureWarning\n"
     ]
    },
    {
     "data": {
      "text/plain": [
       "<matplotlib.axes._subplots.AxesSubplot at 0x7f829f3212e8>"
      ]
     },
     "execution_count": 36,
     "metadata": {
      "tags": []
     },
     "output_type": "execute_result"
    },
    {
     "data": {
      "image/png": "[encoded data removed]",
      "text/plain": [
       "<Figure size 432x288 with 1 Axes>"
      ]
     },
     "metadata": {
      "needs_background": "light",
      "tags": []
     },
     "output_type": "display_data"
    }
   ],
   "source": [
    "# Educatin vs Loan_Status\n",
    "print(pd.crosstab(train['Education'],train['Loan_Status']))\n",
    "sns.countplot('Education', hue ='Loan_Status', data = train)"
   ]
  },
  {
   "cell_type": "markdown",
   "metadata": {
    "id": "dVGxI8aYQUxS"
   },
   "source": [
    "### Self_Employed vs Loan_Status"
   ]
  },
  {
   "cell_type": "code",
   "execution_count": 37,
   "metadata": {
    "colab": {
     "base_uri": "https://localhost:8080/",
     "height": 419
    },
    "id": "IKuUBw74QUxT",
    "outputId": "462bce9a-d58f-466b-b404-d4501b565950"
   },
   "outputs": [
    {
     "name": "stdout",
     "output_type": "stream",
     "text": [
      "Loan_Status      N    Y\n",
      "Self_Employed          \n",
      "No             157  343\n",
      "Yes             26   56\n"
     ]
    },
    {
     "name": "stderr",
     "output_type": "stream",
     "text": [
      "/usr/local/lib/python3.6/dist-packages/seaborn/_decorators.py:43: FutureWarning: Pass the following variable as a keyword arg: x. From version 0.12, the only valid positional argument will be `data`, and passing other arguments without an explicit keyword will result in an error or misinterpretation.\n",
      "  FutureWarning\n"
     ]
    },
    {
     "data": {
      "text/plain": [
       "<matplotlib.axes._subplots.AxesSubplot at 0x7f829f3362e8>"
      ]
     },
     "execution_count": 37,
     "metadata": {
      "tags": []
     },
     "output_type": "execute_result"
    },
    {
     "data": {
      "image/png": "[encoded data removed]",
      "text/plain": [
       "<Figure size 432x288 with 1 Axes>"
      ]
     },
     "metadata": {
      "needs_background": "light",
      "tags": []
     },
     "output_type": "display_data"
    }
   ],
   "source": [
    "# Self_Employed vs Loan_Status\n",
    "print(pd.crosstab(train['Self_Employed'],train['Loan_Status']))\n",
    "sns.countplot('Self_Employed', hue ='Loan_Status', data = train)"
   ]
  },
  {
   "cell_type": "markdown",
   "metadata": {
    "id": "eBGiLPCJQUxX"
   },
   "source": [
    "### Credit_History vs Loan_Status"
   ]
  },
  {
   "cell_type": "code",
   "execution_count": 38,
   "metadata": {
    "colab": {
     "base_uri": "https://localhost:8080/",
     "height": 419
    },
    "id": "XVrU2yIHQUxX",
    "outputId": "f823546a-c1c0-4b09-d6ff-a5a43b15c5a8"
   },
   "outputs": [
    {
     "name": "stdout",
     "output_type": "stream",
     "text": [
      "Loan_Status      N    Y\n",
      "Credit_History         \n",
      "0.0             82    7\n",
      "1.0             97  378\n"
     ]
    },
    {
     "name": "stderr",
     "output_type": "stream",
     "text": [
      "/usr/local/lib/python3.6/dist-packages/seaborn/_decorators.py:43: FutureWarning: Pass the following variable as a keyword arg: x. From version 0.12, the only valid positional argument will be `data`, and passing other arguments without an explicit keyword will result in an error or misinterpretation.\n",
      "  FutureWarning\n"
     ]
    },
    {
     "data": {
      "text/plain": [
       "<matplotlib.axes._subplots.AxesSubplot at 0x7f829f4eb4a8>"
      ]
     },
     "execution_count": 38,
     "metadata": {
      "tags": []
     },
     "output_type": "execute_result"
    },
    {
     "data": {
      "image/png": "[encoded data removed]",
      "text/plain": [
       "<Figure size 432x288 with 1 Axes>"
      ]
     },
     "metadata": {
      "needs_background": "light",
      "tags": []
     },
     "output_type": "display_data"
    }
   ],
   "source": [
    "# Credit_History vs Loan_Status\n",
    "print(pd.crosstab(train['Credit_History'],train['Loan_Status']))\n",
    "sns.countplot('Credit_History', hue ='Loan_Status', data = train)"
   ]
  },
  {
   "cell_type": "markdown",
   "metadata": {
    "id": "GRJRJZpSQUxZ"
   },
   "source": [
    "### Property_Area vs Loan_Status"
   ]
  },
  {
   "cell_type": "code",
   "execution_count": 39,
   "metadata": {
    "colab": {
     "base_uri": "https://localhost:8080/",
     "height": 436
    },
    "id": "YZ9SVFw5QUxa",
    "outputId": "cdd9c904-43d9-4c3d-fec5-df299c1ac20d"
   },
   "outputs": [
    {
     "name": "stdout",
     "output_type": "stream",
     "text": [
      "Loan_Status     N    Y\n",
      "Property_Area         \n",
      "Rural          69  110\n",
      "Semiurban      54  179\n",
      "Urban          69  133\n"
     ]
    },
    {
     "name": "stderr",
     "output_type": "stream",
     "text": [
      "/usr/local/lib/python3.6/dist-packages/seaborn/_decorators.py:43: FutureWarning: Pass the following variable as a keyword arg: x. From version 0.12, the only valid positional argument will be `data`, and passing other arguments without an explicit keyword will result in an error or misinterpretation.\n",
      "  FutureWarning\n"
     ]
    },
    {
     "data": {
      "text/plain": [
       "<matplotlib.axes._subplots.AxesSubplot at 0x7f829f744c18>"
      ]
     },
     "execution_count": 39,
     "metadata": {
      "tags": []
     },
     "output_type": "execute_result"
    },
    {
     "data": {
      "image/png": "[encoded data removed]",
      "text/plain": [
       "<Figure size 432x288 with 1 Axes>"
      ]
     },
     "metadata": {
      "needs_background": "light",
      "tags": []
     },
     "output_type": "display_data"
    }
   ],
   "source": [
    "#Property_Area vs Loan_Status\n",
    "print(pd.crosstab(train['Property_Area'],train['Loan_Status']))\n",
    "sns.countplot('Property_Area', hue ='Loan_Status', data = train)"
   ]
  },
  {
   "cell_type": "markdown",
   "metadata": {
    "id": "U_zKMjOhQUxe"
   },
   "source": [
    "From the above chart, it can be says that:\n",
    "- proportion of male and female applicants is more or less same for both approved and unapproved loans\n",
    "- proportion of married applicants is higher for the approved loans\n",
    "- distribution of applicants with 1 or 3+ dependents is similar across both the categories of Loan_Status\n",
    "- there is nothing significant we can infer from Self_Employed vs Loan_Status plot.\n",
    "- proportion of loans getting approved for graduates is higher compared to non-graduates\n",
    "- it seems people with credit history as 1 are more likely to get their loans approved\n",
    "- proportion of loans getting approved in semiurban area is higher as compared to that in rural or urban areas."
   ]
  },
  {
   "cell_type": "markdown",
   "metadata": {
    "id": "H-B33vrLQUxe"
   },
   "source": [
    "# Numerica vs Target Variable"
   ]
  },
  {
   "cell_type": "code",
   "execution_count": 40,
   "metadata": {
    "colab": {
     "base_uri": "https://localhost:8080/",
     "height": 296
    },
    "id": "gKhBfTHjQUxf",
    "outputId": "f0a0b28d-65b1-4821-e659-3cce7a820b0a"
   },
   "outputs": [
    {
     "data": {
      "text/plain": [
       "<matplotlib.axes._subplots.AxesSubplot at 0x7f829f5ad978>"
      ]
     },
     "execution_count": 40,
     "metadata": {
      "tags": []
     },
     "output_type": "execute_result"
    },
    {
     "data": {
      "image/png": "[encoded data removed]",
      "text/plain": [
       "<Figure size 432x288 with 1 Axes>"
      ]
     },
     "metadata": {
      "needs_background": "light",
      "tags": []
     },
     "output_type": "display_data"
    }
   ],
   "source": [
    "sns.scatterplot(x=\"LoanAmount\",y=\"ApplicantIncome\",data=train)"
   ]
  },
  {
   "cell_type": "markdown",
   "metadata": {
    "id": "pMicrO_nQUxi"
   },
   "source": [
    "# Assigning Flag to categorical variable "
   ]
  },
  {
   "cell_type": "code",
   "execution_count": 41,
   "metadata": {
    "colab": {
     "base_uri": "https://localhost:8080/",
     "height": 34
    },
    "id": "-nuA_-3bQUxi",
    "outputId": "84bd2ba7-ed3c-42b5-a6dd-4edd97019869"
   },
   "outputs": [
    {
     "data": {
      "text/plain": [
       "array(['Male', 'Female', nan], dtype=object)"
      ]
     },
     "execution_count": 41,
     "metadata": {
      "tags": []
     },
     "output_type": "execute_result"
    }
   ],
   "source": [
    "# Gender\n",
    "train_original['Gender'].unique() "
   ]
  },
  {
   "cell_type": "code",
   "execution_count": 42,
   "metadata": {
    "id": "XpLqpVGhQUxl"
   },
   "outputs": [],
   "source": [
    "train['Gender'] = train['Gender'].map({'Male':1,'Female':0})"
   ]
  },
  {
   "cell_type": "code",
   "execution_count": 43,
   "metadata": {
    "colab": {
     "base_uri": "https://localhost:8080/",
     "height": 34
    },
    "id": "TZ8pzZ65QUxn",
    "outputId": "4a4fbfe6-fdae-4fe0-de17-28ed4215bc95"
   },
   "outputs": [
    {
     "data": {
      "text/plain": [
       "array(['No', 'Yes', nan], dtype=object)"
      ]
     },
     "execution_count": 43,
     "metadata": {
      "tags": []
     },
     "output_type": "execute_result"
    }
   ],
   "source": [
    "# Married\n",
    "train_original['Married'].unique()"
   ]
  },
  {
   "cell_type": "code",
   "execution_count": 44,
   "metadata": {
    "id": "exrxTnslQUxq"
   },
   "outputs": [],
   "source": [
    "train['Married'] = train['Married'].map({\"Yes\":1,\"No\":0})"
   ]
  },
  {
   "cell_type": "code",
   "execution_count": 45,
   "metadata": {
    "id": "GqS5HiILQUxt"
   },
   "outputs": [],
   "source": [
    "# Dependents\n",
    "train['Dependents'] = train['Dependents'].map({\"0\":0,\"1\":1,\"2\":2,\"3+\":4})"
   ]
  },
  {
   "cell_type": "code",
   "execution_count": 46,
   "metadata": {
    "id": "REK1SSXeQUxu"
   },
   "outputs": [],
   "source": [
    "# Education\n",
    "train['Education'] = train['Education'].map({\"Graduate\":1,\"Not Graduate\":0})"
   ]
  },
  {
   "cell_type": "code",
   "execution_count": 47,
   "metadata": {
    "id": "YoXqtwXKQUxz"
   },
   "outputs": [],
   "source": [
    "# Self Employed\n",
    "train['Self_Employed'] = train['Self_Employed'].map({\"Yes\":1,\"No\":0})"
   ]
  },
  {
   "cell_type": "code",
   "execution_count": 48,
   "metadata": {
    "id": "TIZJu6VzQUx2"
   },
   "outputs": [],
   "source": [
    "# Property Area\n",
    "train['Property_Area'] = train['Property_Area'].map({\"Rural\":1,\"Semiurban\":2,\"Urban\":3})"
   ]
  },
  {
   "cell_type": "code",
   "execution_count": 49,
   "metadata": {
    "id": "AQxfCCqYQUx5"
   },
   "outputs": [],
   "source": [
    "# Loan Status\n",
    "train['Loan_Status'] = train['Loan_Status'].map({\"Y\":1,\"N\":0})"
   ]
  },
  {
   "cell_type": "markdown",
   "metadata": {
    "id": "1WA4uTalQUx7"
   },
   "source": [
    "# Correlation\n",
    "It is important to discover and quantify the degree to which variables in your dataset are dependent upon each other.\n",
    "Correlation values range between -1 and 1. There are two key components of a correlation value:\n",
    "- magnitude – The larger the magnitude (closer to 1 or -1), the stronger the correlation\n",
    "- sign – If negative, there is an inverse correlation. If positive, there is a regular correlation."
   ]
  },
  {
   "cell_type": "code",
   "execution_count": 50,
   "metadata": {
    "colab": {
     "base_uri": "https://localhost:8080/",
     "height": 889
    },
    "id": "fDDJGZD7QUx7",
    "outputId": "76bf5c02-af34-4691-cd8b-f1795458c54e"
   },
   "outputs": [
    {
     "data": {
      "text/html": [
       "<div>\n",
       "<style scoped>\n",
       "    .dataframe tbody tr th:only-of-type {\n",
       "        vertical-align: middle;\n",
       "    }\n",
       "\n",
       "    .dataframe tbody tr th {\n",
       "        vertical-align: top;\n",
       "    }\n",
       "\n",
       "    .dataframe thead th {\n",
       "        text-align: right;\n",
       "    }\n",
       "</style>\n",
       "<table border=\"1\" class=\"dataframe\">\n",
       "  <thead>\n",
       "    <tr style=\"text-align: right;\">\n",
       "      <th></th>\n",
       "      <th>Gender</th>\n",
       "      <th>Married</th>\n",
       "      <th>Dependents</th>\n",
       "      <th>Education</th>\n",
       "      <th>Self_Employed</th>\n",
       "      <th>ApplicantIncome</th>\n",
       "      <th>CoapplicantIncome</th>\n",
       "      <th>LoanAmount</th>\n",
       "      <th>Loan_Amount_Term</th>\n",
       "      <th>Credit_History</th>\n",
       "      <th>Property_Area</th>\n",
       "      <th>Loan_Status</th>\n",
       "    </tr>\n",
       "  </thead>\n",
       "  <tbody>\n",
       "    <tr>\n",
       "      <th>Gender</th>\n",
       "      <td>1.000000</td>\n",
       "      <td>0.369612</td>\n",
       "      <td>0.168347</td>\n",
       "      <td>-0.049258</td>\n",
       "      <td>-0.009829</td>\n",
       "      <td>0.053989</td>\n",
       "      <td>0.083946</td>\n",
       "      <td>0.106947</td>\n",
       "      <td>-0.075117</td>\n",
       "      <td>0.016337</td>\n",
       "      <td>-0.024556</td>\n",
       "      <td>0.019857</td>\n",
       "    </tr>\n",
       "    <tr>\n",
       "      <th>Married</th>\n",
       "      <td>0.369612</td>\n",
       "      <td>1.000000</td>\n",
       "      <td>0.316592</td>\n",
       "      <td>-0.014223</td>\n",
       "      <td>0.001909</td>\n",
       "      <td>0.051332</td>\n",
       "      <td>0.077770</td>\n",
       "      <td>0.149519</td>\n",
       "      <td>-0.103810</td>\n",
       "      <td>0.004381</td>\n",
       "      <td>0.002918</td>\n",
       "      <td>0.089280</td>\n",
       "    </tr>\n",
       "    <tr>\n",
       "      <th>Dependents</th>\n",
       "      <td>0.168347</td>\n",
       "      <td>0.316592</td>\n",
       "      <td>1.000000</td>\n",
       "      <td>-0.062254</td>\n",
       "      <td>0.048433</td>\n",
       "      <td>0.134625</td>\n",
       "      <td>0.031882</td>\n",
       "      <td>0.171972</td>\n",
       "      <td>-0.101388</td>\n",
       "      <td>-0.056637</td>\n",
       "      <td>-0.005676</td>\n",
       "      <td>-0.000760</td>\n",
       "    </tr>\n",
       "    <tr>\n",
       "      <th>Education</th>\n",
       "      <td>-0.049258</td>\n",
       "      <td>-0.014223</td>\n",
       "      <td>-0.062254</td>\n",
       "      <td>1.000000</td>\n",
       "      <td>0.012333</td>\n",
       "      <td>0.140760</td>\n",
       "      <td>0.062290</td>\n",
       "      <td>0.171133</td>\n",
       "      <td>0.078784</td>\n",
       "      <td>0.081822</td>\n",
       "      <td>0.065243</td>\n",
       "      <td>0.085884</td>\n",
       "    </tr>\n",
       "    <tr>\n",
       "      <th>Self_Employed</th>\n",
       "      <td>-0.009829</td>\n",
       "      <td>0.001909</td>\n",
       "      <td>0.048433</td>\n",
       "      <td>0.012333</td>\n",
       "      <td>1.000000</td>\n",
       "      <td>0.140826</td>\n",
       "      <td>-0.011152</td>\n",
       "      <td>0.123931</td>\n",
       "      <td>-0.037069</td>\n",
       "      <td>0.003883</td>\n",
       "      <td>-0.031214</td>\n",
       "      <td>-0.002303</td>\n",
       "    </tr>\n",
       "    <tr>\n",
       "      <th>ApplicantIncome</th>\n",
       "      <td>0.053989</td>\n",
       "      <td>0.051332</td>\n",
       "      <td>0.134625</td>\n",
       "      <td>0.140760</td>\n",
       "      <td>0.140826</td>\n",
       "      <td>1.000000</td>\n",
       "      <td>-0.116605</td>\n",
       "      <td>0.570909</td>\n",
       "      <td>-0.045306</td>\n",
       "      <td>-0.014715</td>\n",
       "      <td>-0.009500</td>\n",
       "      <td>-0.004710</td>\n",
       "    </tr>\n",
       "    <tr>\n",
       "      <th>CoapplicantIncome</th>\n",
       "      <td>0.083946</td>\n",
       "      <td>0.077770</td>\n",
       "      <td>0.031882</td>\n",
       "      <td>0.062290</td>\n",
       "      <td>-0.011152</td>\n",
       "      <td>-0.116605</td>\n",
       "      <td>1.000000</td>\n",
       "      <td>0.188619</td>\n",
       "      <td>-0.059878</td>\n",
       "      <td>-0.002056</td>\n",
       "      <td>0.010522</td>\n",
       "      <td>-0.059187</td>\n",
       "    </tr>\n",
       "    <tr>\n",
       "      <th>LoanAmount</th>\n",
       "      <td>0.106947</td>\n",
       "      <td>0.149519</td>\n",
       "      <td>0.171972</td>\n",
       "      <td>0.171133</td>\n",
       "      <td>0.123931</td>\n",
       "      <td>0.570909</td>\n",
       "      <td>0.188619</td>\n",
       "      <td>1.000000</td>\n",
       "      <td>0.039447</td>\n",
       "      <td>-0.008433</td>\n",
       "      <td>-0.045792</td>\n",
       "      <td>-0.037318</td>\n",
       "    </tr>\n",
       "    <tr>\n",
       "      <th>Loan_Amount_Term</th>\n",
       "      <td>-0.075117</td>\n",
       "      <td>-0.103810</td>\n",
       "      <td>-0.101388</td>\n",
       "      <td>0.078784</td>\n",
       "      <td>-0.037069</td>\n",
       "      <td>-0.045306</td>\n",
       "      <td>-0.059878</td>\n",
       "      <td>0.039447</td>\n",
       "      <td>1.000000</td>\n",
       "      <td>0.001470</td>\n",
       "      <td>-0.078748</td>\n",
       "      <td>-0.021268</td>\n",
       "    </tr>\n",
       "    <tr>\n",
       "      <th>Credit_History</th>\n",
       "      <td>0.016337</td>\n",
       "      <td>0.004381</td>\n",
       "      <td>-0.056637</td>\n",
       "      <td>0.081822</td>\n",
       "      <td>0.003883</td>\n",
       "      <td>-0.014715</td>\n",
       "      <td>-0.002056</td>\n",
       "      <td>-0.008433</td>\n",
       "      <td>0.001470</td>\n",
       "      <td>1.000000</td>\n",
       "      <td>-0.001969</td>\n",
       "      <td>0.561678</td>\n",
       "    </tr>\n",
       "    <tr>\n",
       "      <th>Property_Area</th>\n",
       "      <td>-0.024556</td>\n",
       "      <td>0.002918</td>\n",
       "      <td>-0.005676</td>\n",
       "      <td>0.065243</td>\n",
       "      <td>-0.031214</td>\n",
       "      <td>-0.009500</td>\n",
       "      <td>0.010522</td>\n",
       "      <td>-0.045792</td>\n",
       "      <td>-0.078748</td>\n",
       "      <td>-0.001969</td>\n",
       "      <td>1.000000</td>\n",
       "      <td>0.032112</td>\n",
       "    </tr>\n",
       "    <tr>\n",
       "      <th>Loan_Status</th>\n",
       "      <td>0.019857</td>\n",
       "      <td>0.089280</td>\n",
       "      <td>-0.000760</td>\n",
       "      <td>0.085884</td>\n",
       "      <td>-0.002303</td>\n",
       "      <td>-0.004710</td>\n",
       "      <td>-0.059187</td>\n",
       "      <td>-0.037318</td>\n",
       "      <td>-0.021268</td>\n",
       "      <td>0.561678</td>\n",
       "      <td>0.032112</td>\n",
       "      <td>1.000000</td>\n",
       "    </tr>\n",
       "  </tbody>\n",
       "</table>\n",
       "</div>"
      ],
      "text/plain": [
       "                     Gender   Married  ...  Property_Area  Loan_Status\n",
       "Gender             1.000000  0.369612  ...      -0.024556     0.019857\n",
       "Married            0.369612  1.000000  ...       0.002918     0.089280\n",
       "Dependents         0.168347  0.316592  ...      -0.005676    -0.000760\n",
       "Education         -0.049258 -0.014223  ...       0.065243     0.085884\n",
       "Self_Employed     -0.009829  0.001909  ...      -0.031214    -0.002303\n",
       "ApplicantIncome    0.053989  0.051332  ...      -0.009500    -0.004710\n",
       "CoapplicantIncome  0.083946  0.077770  ...       0.010522    -0.059187\n",
       "LoanAmount         0.106947  0.149519  ...      -0.045792    -0.037318\n",
       "Loan_Amount_Term  -0.075117 -0.103810  ...      -0.078748    -0.021268\n",
       "Credit_History     0.016337  0.004381  ...      -0.001969     0.561678\n",
       "Property_Area     -0.024556  0.002918  ...       1.000000     0.032112\n",
       "Loan_Status        0.019857  0.089280  ...       0.032112     1.000000\n",
       "\n",
       "[12 rows x 12 columns]"
      ]
     },
     "execution_count": 50,
     "metadata": {
      "tags": []
     },
     "output_type": "execute_result"
    },
    {
     "data": {
      "image/png": "[encoded data removed]",
      "text/plain": [
       "<Figure size 648x432 with 2 Axes>"
      ]
     },
     "metadata": {
      "needs_background": "light",
      "tags": []
     },
     "output_type": "display_data"
    }
   ],
   "source": [
    "# Correlation Matrix\n",
    "matrix = train.corr()\n",
    "ax = plt.subplots(figsize=(9, 6))\n",
    "sns.heatmap(matrix, vmax=1, square=True, cmap=\"BuPu\", annot=True)\n",
    "matrix"
   ]
  },
  {
   "cell_type": "markdown",
   "metadata": {
    "id": "cjebdLDMQUx9"
   },
   "source": []
  },
  {
   "cell_type": "markdown",
   "metadata": {
    "id": "E4CJkfsnQUx-"
   },
   "source": [
    "**Note: ** We see that the most correlated variables are\n",
    "- Gender has highest correlation with Married\n",
    "- Dependants has highest correlation with Married\n",
    "- Self Employed has highest correlation with Applicant Income\n",
    "- ApplicantIncome - LoanAmount with correlation coefficient of 0.57\n",
    "- LoanAmount is also correlated with CoapplicantIncome with correlation coefficient of 0.19.\n",
    "- Credit History is highly correlated with Loan Status "
   ]
  },
  {
   "cell_type": "markdown",
   "metadata": {
    "id": "A48aDmU8QUx-"
   },
   "source": [
    "# Data Preprocessing \n",
    "Transformation of Raw Data into understandable Format, in simple term we can say this is the process called Data Mining. "
   ]
  },
  {
   "cell_type": "markdown",
   "metadata": {
    "id": "hYoirhvEQUx-"
   },
   "source": [
    "# Missing Value And Outlier Treatment\n",
    "After exploring all the variables in our data, we can now impute the missing values and treat the outliers because missing data and outliers can have adverse effect on the model performance."
   ]
  },
  {
   "cell_type": "code",
   "execution_count": 51,
   "metadata": {
    "colab": {
     "base_uri": "https://localhost:8080/",
     "height": 241
    },
    "id": "rstcyVRuQUyA",
    "outputId": "a51d9c9b-18ed-4fe4-afbc-1634c9e385ff"
   },
   "outputs": [
    {
     "data": {
      "text/html": [
       "<div>\n",
       "<style scoped>\n",
       "    .dataframe tbody tr th:only-of-type {\n",
       "        vertical-align: middle;\n",
       "    }\n",
       "\n",
       "    .dataframe tbody tr th {\n",
       "        vertical-align: top;\n",
       "    }\n",
       "\n",
       "    .dataframe thead th {\n",
       "        text-align: right;\n",
       "    }\n",
       "</style>\n",
       "<table border=\"1\" class=\"dataframe\">\n",
       "  <thead>\n",
       "    <tr style=\"text-align: right;\">\n",
       "      <th></th>\n",
       "      <th>Loan_ID</th>\n",
       "      <th>Gender</th>\n",
       "      <th>Married</th>\n",
       "      <th>Dependents</th>\n",
       "      <th>Education</th>\n",
       "      <th>Self_Employed</th>\n",
       "      <th>ApplicantIncome</th>\n",
       "      <th>CoapplicantIncome</th>\n",
       "      <th>LoanAmount</th>\n",
       "      <th>Loan_Amount_Term</th>\n",
       "      <th>Credit_History</th>\n",
       "      <th>Property_Area</th>\n",
       "      <th>Loan_Status</th>\n",
       "    </tr>\n",
       "  </thead>\n",
       "  <tbody>\n",
       "    <tr>\n",
       "      <th>0</th>\n",
       "      <td>LP001002</td>\n",
       "      <td>Male</td>\n",
       "      <td>No</td>\n",
       "      <td>0</td>\n",
       "      <td>Graduate</td>\n",
       "      <td>No</td>\n",
       "      <td>5849</td>\n",
       "      <td>0.0</td>\n",
       "      <td>NaN</td>\n",
       "      <td>360.0</td>\n",
       "      <td>1.0</td>\n",
       "      <td>Urban</td>\n",
       "      <td>Y</td>\n",
       "    </tr>\n",
       "    <tr>\n",
       "      <th>1</th>\n",
       "      <td>LP001003</td>\n",
       "      <td>Male</td>\n",
       "      <td>Yes</td>\n",
       "      <td>1</td>\n",
       "      <td>Graduate</td>\n",
       "      <td>No</td>\n",
       "      <td>4583</td>\n",
       "      <td>1508.0</td>\n",
       "      <td>128.0</td>\n",
       "      <td>360.0</td>\n",
       "      <td>1.0</td>\n",
       "      <td>Rural</td>\n",
       "      <td>N</td>\n",
       "    </tr>\n",
       "    <tr>\n",
       "      <th>2</th>\n",
       "      <td>LP001005</td>\n",
       "      <td>Male</td>\n",
       "      <td>Yes</td>\n",
       "      <td>0</td>\n",
       "      <td>Graduate</td>\n",
       "      <td>Yes</td>\n",
       "      <td>3000</td>\n",
       "      <td>0.0</td>\n",
       "      <td>66.0</td>\n",
       "      <td>360.0</td>\n",
       "      <td>1.0</td>\n",
       "      <td>Urban</td>\n",
       "      <td>Y</td>\n",
       "    </tr>\n",
       "    <tr>\n",
       "      <th>3</th>\n",
       "      <td>LP001006</td>\n",
       "      <td>Male</td>\n",
       "      <td>Yes</td>\n",
       "      <td>0</td>\n",
       "      <td>Not Graduate</td>\n",
       "      <td>No</td>\n",
       "      <td>2583</td>\n",
       "      <td>2358.0</td>\n",
       "      <td>120.0</td>\n",
       "      <td>360.0</td>\n",
       "      <td>1.0</td>\n",
       "      <td>Urban</td>\n",
       "      <td>Y</td>\n",
       "    </tr>\n",
       "    <tr>\n",
       "      <th>4</th>\n",
       "      <td>LP001008</td>\n",
       "      <td>Male</td>\n",
       "      <td>No</td>\n",
       "      <td>0</td>\n",
       "      <td>Graduate</td>\n",
       "      <td>No</td>\n",
       "      <td>6000</td>\n",
       "      <td>0.0</td>\n",
       "      <td>141.0</td>\n",
       "      <td>360.0</td>\n",
       "      <td>1.0</td>\n",
       "      <td>Urban</td>\n",
       "      <td>Y</td>\n",
       "    </tr>\n",
       "  </tbody>\n",
       "</table>\n",
       "</div>"
      ],
      "text/plain": [
       "    Loan_ID Gender Married  ... Credit_History Property_Area Loan_Status\n",
       "0  LP001002   Male      No  ...            1.0         Urban           Y\n",
       "1  LP001003   Male     Yes  ...            1.0         Rural           N\n",
       "2  LP001005   Male     Yes  ...            1.0         Urban           Y\n",
       "3  LP001006   Male     Yes  ...            1.0         Urban           Y\n",
       "4  LP001008   Male      No  ...            1.0         Urban           Y\n",
       "\n",
       "[5 rows x 13 columns]"
      ]
     },
     "execution_count": 51,
     "metadata": {
      "tags": []
     },
     "output_type": "execute_result"
    }
   ],
   "source": [
    "train_original.head()"
   ]
  },
  {
   "cell_type": "markdown",
   "metadata": {
    "id": "EViUjmRrQUyD"
   },
   "source": [
    "### As gender and Married are highly correlated, so filled missing value in Gender by using married feature"
   ]
  },
  {
   "cell_type": "code",
   "execution_count": 52,
   "metadata": {
    "id": "NG8wz6LwQUyD"
   },
   "outputs": [],
   "source": [
    "# Missing value in Gender columns for train data\n",
    "train_original.loc[(train_original['Gender'].isnull()) & (train_original['Married']== 'Yes'),'Gender']= 'Male'\n",
    "train_original.loc[(train_original['Gender'].isnull()) & (train_original['Married']== 'No'),'Gender']= 'Female'"
   ]
  },
  {
   "cell_type": "code",
   "execution_count": 53,
   "metadata": {
    "colab": {
     "base_uri": "https://localhost:8080/",
     "height": 34
    },
    "id": "gq5xVWDpQUyH",
    "outputId": "c518c710-9a13-411b-ea4f-1fa0587a61cc"
   },
   "outputs": [
    {
     "data": {
      "text/plain": [
       "0"
      ]
     },
     "execution_count": 53,
     "metadata": {
      "tags": []
     },
     "output_type": "execute_result"
    }
   ],
   "source": [
    "train_original[\"Gender\"].isnull().sum()"
   ]
  },
  {
   "cell_type": "code",
   "execution_count": 54,
   "metadata": {
    "id": "oZryz3P7QUyJ"
   },
   "outputs": [],
   "source": [
    "# Missing value in Gender columns for test data\n",
    "test.loc[(test['Gender'].isnull()) & (test['Married'] == 'Yes'),'Gender']= 'Male'\n",
    "test.loc[(test['Gender'].isnull()) & (test['Married']== 'No'),'Gender']= 'Female'"
   ]
  },
  {
   "cell_type": "code",
   "execution_count": 55,
   "metadata": {
    "id": "csrOWKJNQUyK"
   },
   "outputs": [],
   "source": [
    "# Missing value in MArried columns for train data\n",
    "train_original.loc[(train_original[\"Married\"].isnull()) & (train_original[\"Gender\"]==\"Male\"),\"Married\"]=\"Yes\"\n",
    "train_original.loc[(train_original[\"Married\"].isnull()) & (train_original[\"Gender\"]==\"Female\"),\"Married\"]=\"No\""
   ]
  },
  {
   "cell_type": "code",
   "execution_count": 56,
   "metadata": {
    "colab": {
     "base_uri": "https://localhost:8080/",
     "height": 34
    },
    "id": "suIkypagQUyM",
    "outputId": "b20a6d94-980c-4f74-f56d-9c5943c5deec"
   },
   "outputs": [
    {
     "data": {
      "text/plain": [
       "0"
      ]
     },
     "execution_count": 56,
     "metadata": {
      "tags": []
     },
     "output_type": "execute_result"
    }
   ],
   "source": [
    "train_original['Married'].isnull().sum()"
   ]
  },
  {
   "cell_type": "markdown",
   "metadata": {
    "id": "ZpnVTCRgQUyN"
   },
   "source": [
    "### Dependent"
   ]
  },
  {
   "cell_type": "code",
   "execution_count": 57,
   "metadata": {
    "colab": {
     "base_uri": "https://localhost:8080/",
     "height": 102
    },
    "id": "aIA5_NXFQUyO",
    "outputId": "8c49f065-34a9-4331-9574-081ed4893b45"
   },
   "outputs": [
    {
     "data": {
      "text/plain": [
       "0     345\n",
       "1     102\n",
       "2     101\n",
       "3+     51\n",
       "Name: Dependents, dtype: int64"
      ]
     },
     "execution_count": 57,
     "metadata": {
      "tags": []
     },
     "output_type": "execute_result"
    }
   ],
   "source": [
    "# Dependent\n",
    "train_original['Dependents'].value_counts()"
   ]
  },
  {
   "cell_type": "code",
   "execution_count": 58,
   "metadata": {
    "colab": {
     "base_uri": "https://localhost:8080/",
     "height": 102
    },
    "id": "yChV2IA9QUyP",
    "outputId": "1c622615-aa50-4529-bc70-9624505084ad"
   },
   "outputs": [
    {
     "data": {
      "text/plain": [
       "0     200\n",
       "2      59\n",
       "1      58\n",
       "3+     40\n",
       "Name: Dependents, dtype: int64"
      ]
     },
     "execution_count": 58,
     "metadata": {
      "tags": []
     },
     "output_type": "execute_result"
    }
   ],
   "source": [
    "test['Dependents'].value_counts()"
   ]
  },
  {
   "cell_type": "code",
   "execution_count": 59,
   "metadata": {
    "id": "ljpD_qHbQUyR"
   },
   "outputs": [],
   "source": [
    "# fill zero in place of missing value\n",
    "train_original['Dependents']= train_original['Dependents'].fillna('0')\n",
    "test['Dependents']= test['Dependents'].fillna('0')"
   ]
  },
  {
   "cell_type": "code",
   "execution_count": 60,
   "metadata": {
    "colab": {
     "base_uri": "https://localhost:8080/",
     "height": 34
    },
    "id": "5DaleGxTQUyT",
    "outputId": "a5f9f619-d348-4956-d9cd-218d9f09971e"
   },
   "outputs": [
    {
     "data": {
      "text/plain": [
       "array(['0', '1', '2', '3+'], dtype=object)"
      ]
     },
     "execution_count": 60,
     "metadata": {
      "tags": []
     },
     "output_type": "execute_result"
    }
   ],
   "source": [
    "test['Dependents'].unique()"
   ]
  },
  {
   "cell_type": "code",
   "execution_count": 61,
   "metadata": {
    "id": "-_5Za6r5QUyV"
   },
   "outputs": [],
   "source": [
    "train_original['Dependents']= train_original['Dependents'].map({\"0\":0,\"1\":1,\"2\":2,\"3+\":4})\n",
    "test['Dependents']= test['Dependents'].map({\"0\":0,\"1\":1,\"2\":2,\"3+\":4})"
   ]
  },
  {
   "cell_type": "code",
   "execution_count": 62,
   "metadata": {
    "id": "_4n0m6LtQUyY"
   },
   "outputs": [],
   "source": [
    "# Label Encoder for dependents \n",
    "from sklearn.preprocessing import LabelEncoder\n",
    "le = LabelEncoder()\n",
    "train_original['Dependents']= le.fit_transform(train_original['Dependents'])\n",
    "test['Dependents']= le.fit_transform(test['Dependents'])"
   ]
  },
  {
   "cell_type": "markdown",
   "metadata": {
    "id": "NFlhH6XtQUya"
   },
   "source": [
    "### Self employed vs Education  are highly correlated missing value filled  "
   ]
  },
  {
   "cell_type": "code",
   "execution_count": 63,
   "metadata": {
    "colab": {
     "base_uri": "https://localhost:8080/",
     "height": 34
    },
    "id": "VsRu0Gr1QUya",
    "outputId": "47683abf-a202-4551-c435-de5c285747c2"
   },
   "outputs": [
    {
     "data": {
      "text/plain": [
       "32"
      ]
     },
     "execution_count": 63,
     "metadata": {
      "tags": []
     },
     "output_type": "execute_result"
    }
   ],
   "source": [
    "train_original['Self_Employed'].isnull().sum()"
   ]
  },
  {
   "cell_type": "code",
   "execution_count": 64,
   "metadata": {
    "id": "HIPnHyrkQUyc"
   },
   "outputs": [],
   "source": [
    "# Missing value in Self Employed columns for train data\n",
    "train_original.loc[(train_original[\"Self_Employed\"].isnull()) & (train_original[\"Education\"]==\"Graduate\"),\"Self_Employed\"]=\"No\"\n",
    "train_original.loc[(train_original[\"Self_Employed\"].isnull()) & (train_original[\"Education\"]==\"Not Graduate\"),\"Self_Employed\"]=\"Yes\""
   ]
  },
  {
   "cell_type": "code",
   "execution_count": 65,
   "metadata": {
    "colab": {
     "base_uri": "https://localhost:8080/",
     "height": 34
    },
    "id": "JpSOHrloQUyd",
    "outputId": "87c1b445-b09d-4540-f73e-98d4c141b3fa"
   },
   "outputs": [
    {
     "data": {
      "text/plain": [
       "0"
      ]
     },
     "execution_count": 65,
     "metadata": {
      "tags": []
     },
     "output_type": "execute_result"
    }
   ],
   "source": [
    "train_original['Self_Employed'].isnull().sum()"
   ]
  },
  {
   "cell_type": "code",
   "execution_count": 66,
   "metadata": {
    "id": "hmpCjPTwQUyg"
   },
   "outputs": [],
   "source": [
    "# Missing value in Self Employed columns for test data\n",
    "test.loc[(test[\"Self_Employed\"].isnull()) & (test[\"Education\"]==\"Graduate\"),\"Self_Employed\"]=\"No\"\n",
    "test.loc[(test[\"Self_Employed\"].isnull()) & (test[\"Education\"]==\"Not Graduate\"),\"Self_Employed\"]=\"Yes\""
   ]
  },
  {
   "cell_type": "code",
   "execution_count": 67,
   "metadata": {
    "colab": {
     "base_uri": "https://localhost:8080/",
     "height": 34
    },
    "id": "_uu-wzAyQUyl",
    "outputId": "2f6fe708-2d0d-4df5-d9da-3163cf58695d"
   },
   "outputs": [
    {
     "data": {
      "text/plain": [
       "0"
      ]
     },
     "execution_count": 67,
     "metadata": {
      "tags": []
     },
     "output_type": "execute_result"
    }
   ],
   "source": [
    "test['Self_Employed'].isnull().sum()"
   ]
  },
  {
   "cell_type": "code",
   "execution_count": 68,
   "metadata": {
    "colab": {
     "base_uri": "https://localhost:8080/",
     "height": 255
    },
    "id": "wGRKLJnMQUyo",
    "outputId": "ab158232-934f-49d1-9874-cf41be702cc0"
   },
   "outputs": [
    {
     "data": {
      "text/plain": [
       "Loan_ID               0\n",
       "Gender                0\n",
       "Married               0\n",
       "Dependents            0\n",
       "Education             0\n",
       "Self_Employed         0\n",
       "ApplicantIncome       0\n",
       "CoapplicantIncome     0\n",
       "LoanAmount           22\n",
       "Loan_Amount_Term     14\n",
       "Credit_History       50\n",
       "Property_Area         0\n",
       "Loan_Status           0\n",
       "dtype: int64"
      ]
     },
     "execution_count": 68,
     "metadata": {
      "tags": []
     },
     "output_type": "execute_result"
    }
   ],
   "source": [
    "# check whether all the missing values are filled in the Train dataset\n",
    "train_original.isnull().sum()"
   ]
  },
  {
   "cell_type": "markdown",
   "metadata": {
    "id": "5zRHpHCVQUyq"
   },
   "source": [
    "### Outlier treatment and Detection"
   ]
  },
  {
   "cell_type": "code",
   "execution_count": 69,
   "metadata": {
    "colab": {
     "base_uri": "https://localhost:8080/",
     "height": 296
    },
    "id": "mYmzjgKtQUyq",
    "outputId": "8a5f7d37-03f5-43bb-b203-763f48e032c4"
   },
   "outputs": [
    {
     "data": {
      "text/plain": [
       "<matplotlib.axes._subplots.AxesSubplot at 0x7f829bbb7898>"
      ]
     },
     "execution_count": 69,
     "metadata": {
      "tags": []
     },
     "output_type": "execute_result"
    },
    {
     "data": {
      "image/png": "[encoded data removed]",
      "text/plain": [
       "<Figure size 432x288 with 1 Axes>"
      ]
     },
     "metadata": {
      "needs_background": "light",
      "tags": []
     },
     "output_type": "display_data"
    }
   ],
   "source": [
    "sns.scatterplot(x=\"LoanAmount\",y=\"ApplicantIncome\",data=train_original)"
   ]
  },
  {
   "cell_type": "markdown",
   "metadata": {
    "id": "GgqHkhGZQUyt"
   },
   "source": [
    "From Above it can be seen there is lots of out lier"
   ]
  },
  {
   "cell_type": "code",
   "execution_count": 70,
   "metadata": {
    "colab": {
     "base_uri": "https://localhost:8080/",
     "height": 85
    },
    "id": "bCQHWrmGQUyt",
    "outputId": "87adba66-7e0d-441e-baf9-d3f250675616"
   },
   "outputs": [
    {
     "data": {
      "text/plain": [
       "0.1     71.0\n",
       "0.2     95.0\n",
       "0.3    108.0\n",
       "Name: LoanAmount, dtype: float64"
      ]
     },
     "execution_count": 70,
     "metadata": {
      "tags": []
     },
     "output_type": "execute_result"
    }
   ],
   "source": [
    "# Outlier Detection\n",
    "train_original['LoanAmount'].quantile([0.1,0.2,0.3]) #checking for outliers"
   ]
  },
  {
   "cell_type": "code",
   "execution_count": 71,
   "metadata": {
    "colab": {
     "base_uri": "https://localhost:8080/",
     "height": 85
    },
    "id": "CO5WVV9fQUyv",
    "outputId": "394e73c0-394d-40cf-98de-925f095e5886"
   },
   "outputs": [
    {
     "data": {
      "text/plain": [
       "1.00    700.00\n",
       "0.99    496.36\n",
       "0.98    443.92\n",
       "Name: LoanAmount, dtype: float64"
      ]
     },
     "execution_count": 71,
     "metadata": {
      "tags": []
     },
     "output_type": "execute_result"
    }
   ],
   "source": [
    "# Outlier Detection\n",
    "train_original['LoanAmount'].quantile([1.0,0.99,0.98])"
   ]
  },
  {
   "cell_type": "code",
   "execution_count": 72,
   "metadata": {
    "id": "3NRgVnv_QUy0"
   },
   "outputs": [],
   "source": [
    "train_original.drop(train_original[train_original[\"LoanAmount\"]>496.36].index,axis=0,inplace=True) #removing outliers"
   ]
  },
  {
   "cell_type": "code",
   "execution_count": 73,
   "metadata": {
    "colab": {
     "base_uri": "https://localhost:8080/",
     "height": 34
    },
    "id": "hr61gbN6QUy4",
    "outputId": "665dcfd9-057e-4def-afef-a513d5e87fd7"
   },
   "outputs": [
    {
     "data": {
      "text/plain": [
       "(608, 13)"
      ]
     },
     "execution_count": 73,
     "metadata": {
      "tags": []
     },
     "output_type": "execute_result"
    }
   ],
   "source": [
    "train_original.shape"
   ]
  },
  {
   "cell_type": "code",
   "execution_count": 74,
   "metadata": {
    "id": "LJ1vdDytQUy7"
   },
   "outputs": [],
   "source": [
    "# We'll use fast_knn from impyute library to fill the missing values in loan amount \n",
    "\n",
    "#missing_data = train_original[[\"LoanAmount\",\"ApplicantIncome\"]]\n",
    "#missing_data\n",
    "\n",
    "#missing_data.isnull().sum()\n",
    "\n",
    "#! pip install impyute\n",
    "\n",
    "#import impyute as imp\n",
    "\n",
    "#missing_data = imp.fast_knn(missing_data)"
   ]
  },
  {
   "cell_type": "markdown",
   "metadata": {
    "id": "hT8MekrwQUy9"
   },
   "source": [
    "### LoanAmount"
   ]
  },
  {
   "cell_type": "code",
   "execution_count": 75,
   "metadata": {
    "id": "ts9FEJBRQUy9"
   },
   "outputs": [],
   "source": [
    "# Removing skewness in LoanAmount variable by log transformation\n",
    "train_original['LoanAmount'] = np.log(train['LoanAmount'])\n",
    "test['LoanAmount'] = np.log(test['LoanAmount'])"
   ]
  },
  {
   "cell_type": "code",
   "execution_count": 76,
   "metadata": {
    "id": "0GVGJUxLQUy_"
   },
   "outputs": [],
   "source": [
    "train_original['LoanAmount'] = train_original['LoanAmount'].fillna(train_original['LoanAmount'].median())\n",
    "test['LoanAmount'] = test['LoanAmount'].fillna(test['LoanAmount'].median())"
   ]
  },
  {
   "cell_type": "code",
   "execution_count": 77,
   "metadata": {
    "colab": {
     "base_uri": "https://localhost:8080/",
     "height": 34
    },
    "id": "hJ12BG71QUzB",
    "outputId": "82b2311e-f9e3-43ad-f837-f1fddf6629a9"
   },
   "outputs": [
    {
     "data": {
      "text/plain": [
       "(0, 0)"
      ]
     },
     "execution_count": 77,
     "metadata": {
      "tags": []
     },
     "output_type": "execute_result"
    }
   ],
   "source": [
    "train_original['LoanAmount'].isnull().sum(), test['LoanAmount'].isnull().sum()"
   ]
  },
  {
   "cell_type": "code",
   "execution_count": 78,
   "metadata": {
    "colab": {
     "base_uri": "https://localhost:8080/",
     "height": 298
    },
    "id": "CIGSseAsQUzC",
    "outputId": "f5b718c7-9860-446d-d2da-b63fe7610246"
   },
   "outputs": [
    {
     "data": {
      "text/plain": [
       "Text(0.5, 1.0, 'Test')"
      ]
     },
     "execution_count": 78,
     "metadata": {
      "tags": []
     },
     "output_type": "execute_result"
    },
    {
     "data": {
      "image/png": "[encoded data removed]",
      "text/plain": [
       "<Figure size 864x288 with 2 Axes>"
      ]
     },
     "metadata": {
      "needs_background": "light",
      "tags": []
     },
     "output_type": "display_data"
    }
   ],
   "source": [
    "# after log transformation\n",
    "ax1 = plt.subplot(121)\n",
    "train_original['LoanAmount'].hist(bins=20, figsize=(12,4))\n",
    "ax1.set_title(\"Train\")\n",
    "ax2 = plt.subplot(122)\n",
    "test['LoanAmount'].hist(bins=20)\n",
    "ax2.set_title(\"Test\")"
   ]
  },
  {
   "cell_type": "code",
   "execution_count": 79,
   "metadata": {
    "id": "YG_FE850QUzE"
   },
   "outputs": [],
   "source": [
    "train_original['Loan_Amount_Term'] = train_original['Loan_Amount_Term'].fillna(360.0)\n",
    "test['Loan_Amount_Term'] = test['Loan_Amount_Term'].fillna(360.0)"
   ]
  },
  {
   "cell_type": "markdown",
   "metadata": {
    "id": "Enn5tWK-QUzG"
   },
   "source": [
    "### Credit history and Loan Status are corelated so filled missing value using Loan Status"
   ]
  },
  {
   "cell_type": "code",
   "execution_count": 80,
   "metadata": {
    "id": "tbKSDRWMQUzG"
   },
   "outputs": [],
   "source": [
    "train_original.loc[(train_original[\"Credit_History\"].isnull()) & (train_original[\"Loan_Status\"]==\"Y\"),\"Credit_History\"]=1.0\n",
    "train_original.loc[(train_original[\"Credit_History\"].isnull()) & (train_original[\"Loan_Status\"]==\"N\"),\"Credit_History\"]=0.0"
   ]
  },
  {
   "cell_type": "code",
   "execution_count": 81,
   "metadata": {
    "id": "Wcj-eG5RQUzI"
   },
   "outputs": [],
   "source": [
    "test['Credit_History'] = test['Credit_History'].fillna(1.0)"
   ]
  },
  {
   "cell_type": "markdown",
   "metadata": {
    "id": "9PeVUUl2QUzJ"
   },
   "source": [
    "# 2. Feature Engineering "
   ]
  },
  {
   "cell_type": "code",
   "execution_count": 82,
   "metadata": {
    "id": "h1rEkLkLQUzK"
   },
   "outputs": [],
   "source": [
    "# combine Applicant Income and Coapplicant Income into a new variable\n",
    "train_original['Total_Income'] = train_original['ApplicantIncome'] + train_original['CoapplicantIncome']\n",
    "test['Total_Income'] = test['ApplicantIncome'] + test['CoapplicantIncome']"
   ]
  },
  {
   "cell_type": "code",
   "execution_count": 83,
   "metadata": {
    "colab": {
     "base_uri": "https://localhost:8080/",
     "height": 401
    },
    "id": "RvcQjHqiQUzL",
    "outputId": "25b17312-b4ff-400d-b761-da800a822f66"
   },
   "outputs": [
    {
     "name": "stderr",
     "output_type": "stream",
     "text": [
      "/usr/local/lib/python3.6/dist-packages/seaborn/distributions.py:2551: FutureWarning: `distplot` is a deprecated function and will be removed in a future version. Please adapt your code to use either `displot` (a figure-level function with similar flexibility) or `histplot` (an axes-level function for histograms).\n",
      "  warnings.warn(msg, FutureWarning)\n",
      "/usr/local/lib/python3.6/dist-packages/seaborn/distributions.py:2551: FutureWarning: `distplot` is a deprecated function and will be removed in a future version. Please adapt your code to use either `displot` (a figure-level function with similar flexibility) or `histplot` (an axes-level function for histograms).\n",
      "  warnings.warn(msg, FutureWarning)\n"
     ]
    },
    {
     "data": {
      "text/plain": [
       "Text(0.5, 1.0, 'Test')"
      ]
     },
     "execution_count": 83,
     "metadata": {
      "tags": []
     },
     "output_type": "execute_result"
    },
    {
     "data": {
      "image/png": "[encoded data removed]",
      "text/plain": [
       "<Figure size 1008x288 with 2 Axes>"
      ]
     },
     "metadata": {
      "needs_background": "light",
      "tags": []
     },
     "output_type": "display_data"
    }
   ],
   "source": [
    "# check the distribution of Total Income\n",
    "# before log transformation\n",
    "\n",
    "fig = plt.figure(figsize=(14, 4))\n",
    "ax1 = plt.subplot(121)\n",
    "sns.distplot(train_original['Total_Income'])\n",
    " \n",
    "ax1.set_title(\"Train\")\n",
    "\n",
    "ax1 = plt.subplot(122)\n",
    "sns.distplot(test['Total_Income'])\n",
    "ax1.set_title(\"Test\")"
   ]
  },
  {
   "cell_type": "code",
   "execution_count": 84,
   "metadata": {
    "id": "lF3eLVOBQUzN"
   },
   "outputs": [],
   "source": [
    "# log transformation\n",
    "train_original['Total_Income_log'] = np.log(train_original['Total_Income'])\n",
    "test['Total_Income_log']  =  np.log(test['Total_Income'])"
   ]
  },
  {
   "cell_type": "code",
   "execution_count": 85,
   "metadata": {
    "colab": {
     "base_uri": "https://localhost:8080/",
     "height": 401
    },
    "id": "SL8X4PoMQUzO",
    "outputId": "2ba6052c-7ce8-451c-a73e-a7b74efef15c"
   },
   "outputs": [
    {
     "name": "stderr",
     "output_type": "stream",
     "text": [
      "/usr/local/lib/python3.6/dist-packages/seaborn/distributions.py:2551: FutureWarning: `distplot` is a deprecated function and will be removed in a future version. Please adapt your code to use either `displot` (a figure-level function with similar flexibility) or `histplot` (an axes-level function for histograms).\n",
      "  warnings.warn(msg, FutureWarning)\n",
      "/usr/local/lib/python3.6/dist-packages/seaborn/distributions.py:2551: FutureWarning: `distplot` is a deprecated function and will be removed in a future version. Please adapt your code to use either `displot` (a figure-level function with similar flexibility) or `histplot` (an axes-level function for histograms).\n",
      "  warnings.warn(msg, FutureWarning)\n"
     ]
    },
    {
     "data": {
      "text/plain": [
       "Text(0.5, 1.0, 'Test')"
      ]
     },
     "execution_count": 85,
     "metadata": {
      "tags": []
     },
     "output_type": "execute_result"
    },
    {
     "data": {
      "image/png": "[encoded data removed]",
      "text/plain": [
       "<Figure size 1008x288 with 2 Axes>"
      ]
     },
     "metadata": {
      "needs_background": "light",
      "tags": []
     },
     "output_type": "display_data"
    }
   ],
   "source": [
    "# after log transformation\n",
    "fig = plt.figure(figsize=(14, 4))\n",
    "ax1 = plt.subplot(121)\n",
    "sns.distplot(train_original['Total_Income_log'])\n",
    "ax1.set_title(\"Train\")\n",
    "\n",
    "ax1 = plt.subplot(122)\n",
    "sns.distplot(test['Total_Income_log'])\n",
    "ax1.set_title(\"Test\")"
   ]
  },
  {
   "cell_type": "markdown",
   "metadata": {
    "id": "W3c2ixuoQUzS"
   },
   "source": [
    "Now the distribution looks much closer to normal and effect of extreme values has been significantly subsided. Let’s create the EMI feature now. We can calculate the EMI by taking the ratio of loan amount with respect to loan amount term. It is just an approximation of actual EMI."
   ]
  },
  {
   "cell_type": "code",
   "execution_count": 86,
   "metadata": {
    "id": "yN1EF1JvQUzS"
   },
   "outputs": [],
   "source": [
    "# create EMI feature\n",
    "train_original['EMI'] = (train_original['LoanAmount']*0.09*(1.09**train_original['Loan_Amount_Term']))/(1.09**(train_original['Loan_Amount_Term']-1))\n",
    "test['EMI'] = (test['LoanAmount']*0.09*(1.09**test['Loan_Amount_Term']))/(1.09**(test['Loan_Amount_Term']-1))"
   ]
  },
  {
   "cell_type": "code",
   "execution_count": 87,
   "metadata": {
    "colab": {
     "base_uri": "https://localhost:8080/",
     "height": 400
    },
    "id": "zinPymKAQUzU",
    "outputId": "b8b4c2bb-fe96-4e7a-ce75-c3382dc6d8ff"
   },
   "outputs": [
    {
     "name": "stderr",
     "output_type": "stream",
     "text": [
      "/usr/local/lib/python3.6/dist-packages/seaborn/distributions.py:2551: FutureWarning: `distplot` is a deprecated function and will be removed in a future version. Please adapt your code to use either `displot` (a figure-level function with similar flexibility) or `histplot` (an axes-level function for histograms).\n",
      "  warnings.warn(msg, FutureWarning)\n",
      "/usr/local/lib/python3.6/dist-packages/seaborn/distributions.py:2551: FutureWarning: `distplot` is a deprecated function and will be removed in a future version. Please adapt your code to use either `displot` (a figure-level function with similar flexibility) or `histplot` (an axes-level function for histograms).\n",
      "  warnings.warn(msg, FutureWarning)\n"
     ]
    },
    {
     "data": {
      "text/plain": [
       "Text(0.5, 1.0, 'Test')"
      ]
     },
     "execution_count": 87,
     "metadata": {
      "tags": []
     },
     "output_type": "execute_result"
    },
    {
     "data": {
      "image/png": "[encoded data removed]",
      "text/plain": [
       "<Figure size 1008x288 with 2 Axes>"
      ]
     },
     "metadata": {
      "needs_background": "light",
      "tags": []
     },
     "output_type": "display_data"
    }
   ],
   "source": [
    "# check the distribution of EMI\n",
    "\n",
    "fig = plt.figure(figsize=(14, 4))\n",
    "ax1 = plt.subplot(121)\n",
    "sns.distplot(train_original['EMI'])\n",
    "ax1.set_title(\"Train\")\n",
    "\n",
    "ax1 = plt.subplot(122)\n",
    "sns.distplot(test['EMI'])\n",
    "ax1.set_title(\"Test\")"
   ]
  },
  {
   "cell_type": "markdown",
   "metadata": {
    "id": "68W8C6jYQUzX"
   },
   "source": [
    "Let us create Balance Income feature now and check its distribution. This is the income left after the EMI has been paid."
   ]
  },
  {
   "cell_type": "code",
   "execution_count": 87,
   "metadata": {
    "id": "vjG1hxAuQUzY"
   },
   "outputs": [],
   "source": []
  },
  {
   "cell_type": "markdown",
   "metadata": {
    "id": "3s_wwg-nQUzZ"
   },
   "source": [
    "# 3. Feature Selection"
   ]
  },
  {
   "cell_type": "code",
   "execution_count": 88,
   "metadata": {
    "id": "f8gOpp7VQUza"
   },
   "outputs": [],
   "source": [
    "# drop the variables\n",
    "train_original = train_original.drop(['ApplicantIncome','CoapplicantIncome','LoanAmount','Total_Income','Loan_Amount_Term'], axis=1)\n",
    "test = test.drop(['ApplicantIncome', 'CoapplicantIncome','LoanAmount','Total_Income','Loan_Amount_Term'], axis=1)"
   ]
  },
  {
   "cell_type": "code",
   "execution_count": 89,
   "metadata": {
    "colab": {
     "base_uri": "https://localhost:8080/",
     "height": 391
    },
    "id": "B_OojHXqQUzb",
    "outputId": "1ba68678-b9c0-47d2-8913-aba6e0396d27"
   },
   "outputs": [
    {
     "data": {
      "text/plain": [
       "(Loan_ID             0\n",
       " Gender              0\n",
       " Married             0\n",
       " Dependents          0\n",
       " Education           0\n",
       " Self_Employed       0\n",
       " Credit_History      0\n",
       " Property_Area       0\n",
       " Loan_Status         0\n",
       " Total_Income_log    0\n",
       " EMI                 0\n",
       " dtype: int64, Loan_ID             0\n",
       " Gender              0\n",
       " Married             0\n",
       " Dependents          0\n",
       " Education           0\n",
       " Self_Employed       0\n",
       " Credit_History      0\n",
       " Property_Area       0\n",
       " Total_Income_log    0\n",
       " EMI                 0\n",
       " dtype: int64)"
      ]
     },
     "execution_count": 89,
     "metadata": {
      "tags": []
     },
     "output_type": "execute_result"
    }
   ],
   "source": [
    "train_original.isnull().sum(), test.isnull().sum() "
   ]
  },
  {
   "cell_type": "markdown",
   "metadata": {
    "id": "Q9psHbLyQUzd"
   },
   "source": [
    "We can see that all the missing values have been filled in the Train dataset as well as test dataset."
   ]
  },
  {
   "cell_type": "code",
   "execution_count": 90,
   "metadata": {
    "id": "D7bYgmDiQUzd"
   },
   "outputs": [],
   "source": [
    "#dropping loan id\n",
    "train_df = train_original.drop([\"Loan_ID\"],axis=1) "
   ]
  },
  {
   "cell_type": "code",
   "execution_count": 91,
   "metadata": {
    "id": "1WylCIhzQUze"
   },
   "outputs": [],
   "source": [
    "train_df = pd.get_dummies(train_df,drop_first=True) # one hot encoding"
   ]
  },
  {
   "cell_type": "code",
   "execution_count": 92,
   "metadata": {
    "colab": {
     "base_uri": "https://localhost:8080/",
     "height": 439
    },
    "id": "U_q-KWAVQUzh",
    "outputId": "54b2ce42-eaf3-4e06-ba4c-b2733f007589"
   },
   "outputs": [
    {
     "data": {
      "text/html": [
       "<div>\n",
       "<style scoped>\n",
       "    .dataframe tbody tr th:only-of-type {\n",
       "        vertical-align: middle;\n",
       "    }\n",
       "\n",
       "    .dataframe tbody tr th {\n",
       "        vertical-align: top;\n",
       "    }\n",
       "\n",
       "    .dataframe thead th {\n",
       "        text-align: right;\n",
       "    }\n",
       "</style>\n",
       "<table border=\"1\" class=\"dataframe\">\n",
       "  <thead>\n",
       "    <tr style=\"text-align: right;\">\n",
       "      <th></th>\n",
       "      <th>Dependents</th>\n",
       "      <th>Credit_History</th>\n",
       "      <th>Total_Income_log</th>\n",
       "      <th>EMI</th>\n",
       "      <th>Gender_Male</th>\n",
       "      <th>Married_Yes</th>\n",
       "      <th>Self_Employed_Yes</th>\n",
       "      <th>Property_Area_Semiurban</th>\n",
       "      <th>Property_Area_Urban</th>\n",
       "      <th>Loan_Status_Y</th>\n",
       "    </tr>\n",
       "  </thead>\n",
       "  <tbody>\n",
       "    <tr>\n",
       "      <th>0</th>\n",
       "      <td>0</td>\n",
       "      <td>1.0</td>\n",
       "      <td>8.674026</td>\n",
       "      <td>0.475215</td>\n",
       "      <td>1</td>\n",
       "      <td>0</td>\n",
       "      <td>0</td>\n",
       "      <td>0</td>\n",
       "      <td>1</td>\n",
       "      <td>1</td>\n",
       "    </tr>\n",
       "    <tr>\n",
       "      <th>1</th>\n",
       "      <td>1</td>\n",
       "      <td>1.0</td>\n",
       "      <td>8.714568</td>\n",
       "      <td>0.475984</td>\n",
       "      <td>1</td>\n",
       "      <td>1</td>\n",
       "      <td>0</td>\n",
       "      <td>0</td>\n",
       "      <td>0</td>\n",
       "      <td>0</td>\n",
       "    </tr>\n",
       "    <tr>\n",
       "      <th>2</th>\n",
       "      <td>0</td>\n",
       "      <td>1.0</td>\n",
       "      <td>8.006368</td>\n",
       "      <td>0.411005</td>\n",
       "      <td>1</td>\n",
       "      <td>1</td>\n",
       "      <td>1</td>\n",
       "      <td>0</td>\n",
       "      <td>1</td>\n",
       "      <td>1</td>\n",
       "    </tr>\n",
       "    <tr>\n",
       "      <th>3</th>\n",
       "      <td>0</td>\n",
       "      <td>1.0</td>\n",
       "      <td>8.505323</td>\n",
       "      <td>0.469653</td>\n",
       "      <td>1</td>\n",
       "      <td>1</td>\n",
       "      <td>0</td>\n",
       "      <td>0</td>\n",
       "      <td>1</td>\n",
       "      <td>1</td>\n",
       "    </tr>\n",
       "    <tr>\n",
       "      <th>4</th>\n",
       "      <td>0</td>\n",
       "      <td>1.0</td>\n",
       "      <td>8.699515</td>\n",
       "      <td>0.485473</td>\n",
       "      <td>1</td>\n",
       "      <td>0</td>\n",
       "      <td>0</td>\n",
       "      <td>0</td>\n",
       "      <td>1</td>\n",
       "      <td>1</td>\n",
       "    </tr>\n",
       "    <tr>\n",
       "      <th>...</th>\n",
       "      <td>...</td>\n",
       "      <td>...</td>\n",
       "      <td>...</td>\n",
       "      <td>...</td>\n",
       "      <td>...</td>\n",
       "      <td>...</td>\n",
       "      <td>...</td>\n",
       "      <td>...</td>\n",
       "      <td>...</td>\n",
       "      <td>...</td>\n",
       "    </tr>\n",
       "    <tr>\n",
       "      <th>609</th>\n",
       "      <td>0</td>\n",
       "      <td>1.0</td>\n",
       "      <td>7.972466</td>\n",
       "      <td>0.418169</td>\n",
       "      <td>0</td>\n",
       "      <td>0</td>\n",
       "      <td>0</td>\n",
       "      <td>0</td>\n",
       "      <td>0</td>\n",
       "      <td>1</td>\n",
       "    </tr>\n",
       "    <tr>\n",
       "      <th>610</th>\n",
       "      <td>3</td>\n",
       "      <td>1.0</td>\n",
       "      <td>8.320205</td>\n",
       "      <td>0.361879</td>\n",
       "      <td>1</td>\n",
       "      <td>1</td>\n",
       "      <td>0</td>\n",
       "      <td>0</td>\n",
       "      <td>0</td>\n",
       "      <td>1</td>\n",
       "    </tr>\n",
       "    <tr>\n",
       "      <th>611</th>\n",
       "      <td>1</td>\n",
       "      <td>1.0</td>\n",
       "      <td>9.025456</td>\n",
       "      <td>0.542826</td>\n",
       "      <td>1</td>\n",
       "      <td>1</td>\n",
       "      <td>0</td>\n",
       "      <td>0</td>\n",
       "      <td>1</td>\n",
       "      <td>1</td>\n",
       "    </tr>\n",
       "    <tr>\n",
       "      <th>612</th>\n",
       "      <td>2</td>\n",
       "      <td>1.0</td>\n",
       "      <td>8.933664</td>\n",
       "      <td>0.513172</td>\n",
       "      <td>1</td>\n",
       "      <td>1</td>\n",
       "      <td>0</td>\n",
       "      <td>0</td>\n",
       "      <td>1</td>\n",
       "      <td>1</td>\n",
       "    </tr>\n",
       "    <tr>\n",
       "      <th>613</th>\n",
       "      <td>0</td>\n",
       "      <td>0.0</td>\n",
       "      <td>8.430109</td>\n",
       "      <td>0.479743</td>\n",
       "      <td>0</td>\n",
       "      <td>0</td>\n",
       "      <td>1</td>\n",
       "      <td>1</td>\n",
       "      <td>0</td>\n",
       "      <td>0</td>\n",
       "    </tr>\n",
       "  </tbody>\n",
       "</table>\n",
       "<p>608 rows × 10 columns</p>\n",
       "</div>"
      ],
      "text/plain": [
       "     Dependents  Credit_History  ...  Property_Area_Urban  Loan_Status_Y\n",
       "0             0             1.0  ...                    1              1\n",
       "1             1             1.0  ...                    0              0\n",
       "2             0             1.0  ...                    1              1\n",
       "3             0             1.0  ...                    1              1\n",
       "4             0             1.0  ...                    1              1\n",
       "..          ...             ...  ...                  ...            ...\n",
       "609           0             1.0  ...                    0              1\n",
       "610           3             1.0  ...                    0              1\n",
       "611           1             1.0  ...                    1              1\n",
       "612           2             1.0  ...                    1              1\n",
       "613           0             0.0  ...                    0              0\n",
       "\n",
       "[608 rows x 10 columns]"
      ]
     },
     "execution_count": 92,
     "metadata": {
      "tags": []
     },
     "output_type": "execute_result"
    }
   ],
   "source": [
    "train_df.drop(['Education_Not Graduate'],axis = 1)"
   ]
  },
  {
   "cell_type": "markdown",
   "metadata": {
    "id": "HEN_spTYQUzi"
   },
   "source": [
    "### We are not using train test split as the dataset is too small so we'll use complete dataset for training"
   ]
  },
  {
   "cell_type": "code",
   "execution_count": 93,
   "metadata": {
    "id": "1lR4TCyTQUzj"
   },
   "outputs": [],
   "source": [
    "X_train = train_df.drop([\"Loan_Status_Y\", \"Education_Not Graduate\",'Self_Employed_Yes', 'Property_Area_Urban'],axis=1)\n",
    "y_train = train_df[\"Loan_Status_Y\"]\n",
    "#X_test=test.drop([\"Loan_ID\"],axis=1)"
   ]
  },
  {
   "cell_type": "code",
   "execution_count": 94,
   "metadata": {
    "id": "l7OMT1OCQUzk"
   },
   "outputs": [],
   "source": [
    "test_df = test.drop([\"Loan_ID\"],axis=1)\n",
    "X_test=pd.get_dummies(test_df,drop_first=True)\n"
   ]
  },
  {
   "cell_type": "markdown",
   "metadata": {
    "id": "RbRUcJOjQUzm"
   },
   "source": [
    "### Removing \"Education_Not Graduate\", 'Self_Employed_Yes','Property_Area_Urban' from test data as well"
   ]
  },
  {
   "cell_type": "code",
   "execution_count": 95,
   "metadata": {
    "id": "n3IRhfJhQUzn"
   },
   "outputs": [],
   "source": [
    "X_test = X_test.drop([\"Education_Not Graduate\", 'Self_Employed_Yes','Property_Area_Urban'],axis=1)"
   ]
  },
  {
   "cell_type": "markdown",
   "metadata": {
    "id": "1UDHgYXAQUzp"
   },
   "source": [
    "### Finally lets have Final look over X_train, y_train, X_test shape"
   ]
  },
  {
   "cell_type": "code",
   "execution_count": 96,
   "metadata": {
    "colab": {
     "base_uri": "https://localhost:8080/",
     "height": 34
    },
    "id": "2JXYrJhcQUzq",
    "outputId": "2b82a268-b1f1-4c0b-f8c3-7d643872ced4"
   },
   "outputs": [
    {
     "data": {
      "text/plain": [
       "((608, 7), (608,), (367, 7))"
      ]
     },
     "execution_count": 96,
     "metadata": {
      "tags": []
     },
     "output_type": "execute_result"
    }
   ],
   "source": [
    "X_train.shape,y_train.shape, X_test.shape"
   ]
  },
  {
   "cell_type": "code",
   "execution_count": 99,
   "metadata": {
    "colab": {
     "base_uri": "https://localhost:8080/",
     "height": 204
    },
    "id": "XzWGtFJnQUzy",
    "outputId": "34a45275-af00-4419-ef2a-b83121b2457c"
   },
   "outputs": [
    {
     "data": {
      "text/html": [
       "<div>\n",
       "<style scoped>\n",
       "    .dataframe tbody tr th:only-of-type {\n",
       "        vertical-align: middle;\n",
       "    }\n",
       "\n",
       "    .dataframe tbody tr th {\n",
       "        vertical-align: top;\n",
       "    }\n",
       "\n",
       "    .dataframe thead th {\n",
       "        text-align: right;\n",
       "    }\n",
       "</style>\n",
       "<table border=\"1\" class=\"dataframe\">\n",
       "  <thead>\n",
       "    <tr style=\"text-align: right;\">\n",
       "      <th></th>\n",
       "      <th>Dependents</th>\n",
       "      <th>Credit_History</th>\n",
       "      <th>Total_Income_log</th>\n",
       "      <th>EMI</th>\n",
       "      <th>Gender_Male</th>\n",
       "      <th>Married_Yes</th>\n",
       "      <th>Property_Area_Semiurban</th>\n",
       "    </tr>\n",
       "  </thead>\n",
       "  <tbody>\n",
       "    <tr>\n",
       "      <th>0</th>\n",
       "      <td>0</td>\n",
       "      <td>1.0</td>\n",
       "      <td>8.674026</td>\n",
       "      <td>0.475215</td>\n",
       "      <td>1</td>\n",
       "      <td>0</td>\n",
       "      <td>0</td>\n",
       "    </tr>\n",
       "    <tr>\n",
       "      <th>1</th>\n",
       "      <td>1</td>\n",
       "      <td>1.0</td>\n",
       "      <td>8.714568</td>\n",
       "      <td>0.475984</td>\n",
       "      <td>1</td>\n",
       "      <td>1</td>\n",
       "      <td>0</td>\n",
       "    </tr>\n",
       "    <tr>\n",
       "      <th>2</th>\n",
       "      <td>0</td>\n",
       "      <td>1.0</td>\n",
       "      <td>8.006368</td>\n",
       "      <td>0.411005</td>\n",
       "      <td>1</td>\n",
       "      <td>1</td>\n",
       "      <td>0</td>\n",
       "    </tr>\n",
       "    <tr>\n",
       "      <th>3</th>\n",
       "      <td>0</td>\n",
       "      <td>1.0</td>\n",
       "      <td>8.505323</td>\n",
       "      <td>0.469653</td>\n",
       "      <td>1</td>\n",
       "      <td>1</td>\n",
       "      <td>0</td>\n",
       "    </tr>\n",
       "    <tr>\n",
       "      <th>4</th>\n",
       "      <td>0</td>\n",
       "      <td>1.0</td>\n",
       "      <td>8.699515</td>\n",
       "      <td>0.485473</td>\n",
       "      <td>1</td>\n",
       "      <td>0</td>\n",
       "      <td>0</td>\n",
       "    </tr>\n",
       "  </tbody>\n",
       "</table>\n",
       "</div>"
      ],
      "text/plain": [
       "   Dependents  Credit_History  ...  Married_Yes  Property_Area_Semiurban\n",
       "0           0             1.0  ...            0                        0\n",
       "1           1             1.0  ...            1                        0\n",
       "2           0             1.0  ...            1                        0\n",
       "3           0             1.0  ...            1                        0\n",
       "4           0             1.0  ...            0                        0\n",
       "\n",
       "[5 rows x 7 columns]"
      ]
     },
     "execution_count": 99,
     "metadata": {
      "tags": []
     },
     "output_type": "execute_result"
    }
   ],
   "source": [
    "X_train.head()"
   ]
  },
  {
   "cell_type": "code",
   "execution_count": 100,
   "metadata": {
    "colab": {
     "base_uri": "https://localhost:8080/",
     "height": 204
    },
    "id": "6jx3MNjeQUz3",
    "outputId": "944423fd-6499-4dcc-8c87-963a84c9b129"
   },
   "outputs": [
    {
     "data": {
      "text/html": [
       "<div>\n",
       "<style scoped>\n",
       "    .dataframe tbody tr th:only-of-type {\n",
       "        vertical-align: middle;\n",
       "    }\n",
       "\n",
       "    .dataframe tbody tr th {\n",
       "        vertical-align: top;\n",
       "    }\n",
       "\n",
       "    .dataframe thead th {\n",
       "        text-align: right;\n",
       "    }\n",
       "</style>\n",
       "<table border=\"1\" class=\"dataframe\">\n",
       "  <thead>\n",
       "    <tr style=\"text-align: right;\">\n",
       "      <th></th>\n",
       "      <th>Dependents</th>\n",
       "      <th>Credit_History</th>\n",
       "      <th>Total_Income_log</th>\n",
       "      <th>EMI</th>\n",
       "      <th>Gender_Male</th>\n",
       "      <th>Married_Yes</th>\n",
       "      <th>Property_Area_Semiurban</th>\n",
       "    </tr>\n",
       "  </thead>\n",
       "  <tbody>\n",
       "    <tr>\n",
       "      <th>0</th>\n",
       "      <td>0</td>\n",
       "      <td>1.0</td>\n",
       "      <td>8.651724</td>\n",
       "      <td>0.461117</td>\n",
       "      <td>1</td>\n",
       "      <td>1</td>\n",
       "      <td>0</td>\n",
       "    </tr>\n",
       "    <tr>\n",
       "      <th>1</th>\n",
       "      <td>1</td>\n",
       "      <td>1.0</td>\n",
       "      <td>8.428581</td>\n",
       "      <td>0.474439</td>\n",
       "      <td>1</td>\n",
       "      <td>1</td>\n",
       "      <td>0</td>\n",
       "    </tr>\n",
       "    <tr>\n",
       "      <th>2</th>\n",
       "      <td>2</td>\n",
       "      <td>1.0</td>\n",
       "      <td>8.824678</td>\n",
       "      <td>0.523612</td>\n",
       "      <td>1</td>\n",
       "      <td>1</td>\n",
       "      <td>0</td>\n",
       "    </tr>\n",
       "    <tr>\n",
       "      <th>3</th>\n",
       "      <td>2</td>\n",
       "      <td>1.0</td>\n",
       "      <td>8.494129</td>\n",
       "      <td>0.451767</td>\n",
       "      <td>1</td>\n",
       "      <td>1</td>\n",
       "      <td>0</td>\n",
       "    </tr>\n",
       "    <tr>\n",
       "      <th>4</th>\n",
       "      <td>0</td>\n",
       "      <td>1.0</td>\n",
       "      <td>8.094378</td>\n",
       "      <td>0.427393</td>\n",
       "      <td>1</td>\n",
       "      <td>0</td>\n",
       "      <td>0</td>\n",
       "    </tr>\n",
       "  </tbody>\n",
       "</table>\n",
       "</div>"
      ],
      "text/plain": [
       "   Dependents  Credit_History  ...  Married_Yes  Property_Area_Semiurban\n",
       "0           0             1.0  ...            1                        0\n",
       "1           1             1.0  ...            1                        0\n",
       "2           2             1.0  ...            1                        0\n",
       "3           2             1.0  ...            1                        0\n",
       "4           0             1.0  ...            0                        0\n",
       "\n",
       "[5 rows x 7 columns]"
      ]
     },
     "execution_count": 100,
     "metadata": {
      "tags": []
     },
     "output_type": "execute_result"
    }
   ],
   "source": [
    "X_test.head()"
   ]
  },
  {
   "cell_type": "markdown",
   "metadata": {
    "id": "ZiV9ckGPQUz-"
   },
   "source": [
    "# 4. Model Selection"
   ]
  },
  {
   "cell_type": "code",
   "execution_count": 101,
   "metadata": {
    "id": "pgwY6vMLQUz-"
   },
   "outputs": [],
   "source": [
    "# import libraries\n",
    "from sklearn.linear_model import LogisticRegression\n",
    "from sklearn.metrics import accuracy_score\n",
    "# Importing Classifier Modules\n",
    "from sklearn.neighbors import KNeighborsClassifier\n",
    "from sklearn.tree import DecisionTreeClassifier\n",
    "from sklearn.ensemble import RandomForestClassifier\n",
    "from sklearn.naive_bayes import GaussianNB\n",
    "from sklearn.svm import SVC"
   ]
  },
  {
   "cell_type": "markdown",
   "metadata": {
    "id": "fyWtaFIdQU0M"
   },
   "source": [
    "# Decision Tree"
   ]
  },
  {
   "cell_type": "code",
   "execution_count": 105,
   "metadata": {
    "colab": {
     "base_uri": "https://localhost:8080/",
     "height": 51
    },
    "id": "9SI_mKqTQU0N",
    "outputId": "987711ab-214e-4e0f-afca-dfd35dcb904d"
   },
   "outputs": [
    {
     "name": "stdout",
     "output_type": "stream",
     "text": [
      "[0.73770492 0.81967213 0.7704918  0.7704918  0.73770492 0.68852459\n",
      " 0.63934426 0.6557377  0.81666667 0.76666667]\n"
     ]
    }
   ],
   "source": [
    "from sklearn.model_selection import KFold\n",
    "k_fold = KFold(n_splits=10, shuffle=True, random_state=0)\n",
    "clf = DecisionTreeClassifier()\n",
    "scoring = 'accuracy'\n",
    "score = cross_val_score(clf, X_train, y_train, cv=k_fold, n_jobs=1, scoring=scoring)\n",
    "print(score)\n"
   ]
  },
  {
   "cell_type": "code",
   "execution_count": 106,
   "metadata": {
    "colab": {
     "base_uri": "https://localhost:8080/",
     "height": 34
    },
    "id": "5X3KoO1kQU0P",
    "outputId": "28c01b08-33be-4efe-8923-7bd1c1b01b08"
   },
   "outputs": [
    {
     "data": {
      "text/plain": [
       "74.03"
      ]
     },
     "execution_count": 106,
     "metadata": {
      "tags": []
     },
     "output_type": "execute_result"
    }
   ],
   "source": [
    "# decision tree Score\n",
    "round(np.mean(score)*100, 2)"
   ]
  },
  {
   "cell_type": "code",
   "execution_count": null,
   "metadata": {
    "id": "BUfFo6Z1_Dp5"
   },
   "outputs": [],
   "source": []
  }
 ],
 "metadata": {
  "colab": {
   "name": "Loan_Prediction.ipynb",
   "provenance": [],
   "toc_visible": true
  },
  "kernelspec": {
   "display_name": "Python 3",
   "language": "python",
   "name": "python3"
  },
  "language_info": {
   "codemirror_mode": {
    "name": "ipython",
    "version": 3
   },
   "file_extension": ".py",
   "mimetype": "text/x-python",
   "name": "python",
   "nbconvert_exporter": "python",
   "pygments_lexer": "ipython3",
   "version": "3.7.6"
  }
 },
 "nbformat": 4,
 "nbformat_minor": 4
}
